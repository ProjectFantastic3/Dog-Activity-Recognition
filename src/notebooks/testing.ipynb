{
  "cells": [
    {
      "cell_type": "code",
      "execution_count": 266,
      "metadata": {
        "id": "BxqUb575jCSa"
      },
      "outputs": [],
      "source": [
        "import pandas as pd\n",
        "import numpy as np"
      ]
    },
    {
      "cell_type": "code",
      "execution_count": 267,
      "metadata": {
        "colab": {
          "base_uri": "https://localhost:8080/",
          "height": 206
        },
        "id": "rzjyclvljTqM",
        "outputId": "3ff10ec6-73a3-40a0-896a-9b730d5bd896"
      },
      "outputs": [
        {
          "data": {
            "text/html": [
              "<div>\n",
              "<style scoped>\n",
              "    .dataframe tbody tr th:only-of-type {\n",
              "        vertical-align: middle;\n",
              "    }\n",
              "\n",
              "    .dataframe tbody tr th {\n",
              "        vertical-align: top;\n",
              "    }\n",
              "\n",
              "    .dataframe thead th {\n",
              "        text-align: right;\n",
              "    }\n",
              "</style>\n",
              "<table border=\"1\" class=\"dataframe\">\n",
              "  <thead>\n",
              "    <tr style=\"text-align: right;\">\n",
              "      <th></th>\n",
              "      <th>ax</th>\n",
              "      <th>ay</th>\n",
              "      <th>az</th>\n",
              "      <th>wx</th>\n",
              "      <th>wy</th>\n",
              "      <th>wz</th>\n",
              "      <th>AngleX</th>\n",
              "      <th>AngleY</th>\n",
              "      <th>AngleZ</th>\n",
              "      <th>label</th>\n",
              "    </tr>\n",
              "  </thead>\n",
              "  <tbody>\n",
              "    <tr>\n",
              "      <th>97463</th>\n",
              "      <td>-0.378</td>\n",
              "      <td>-0.083</td>\n",
              "      <td>-1.469</td>\n",
              "      <td>74.890</td>\n",
              "      <td>-42.053</td>\n",
              "      <td>-41.870</td>\n",
              "      <td>176.484</td>\n",
              "      <td>12.980</td>\n",
              "      <td>107.276</td>\n",
              "      <td>running</td>\n",
              "    </tr>\n",
              "    <tr>\n",
              "      <th>91086</th>\n",
              "      <td>-0.512</td>\n",
              "      <td>0.249</td>\n",
              "      <td>-1.188</td>\n",
              "      <td>-13.123</td>\n",
              "      <td>-197.327</td>\n",
              "      <td>67.627</td>\n",
              "      <td>-179.006</td>\n",
              "      <td>11.761</td>\n",
              "      <td>-135.049</td>\n",
              "      <td>running</td>\n",
              "    </tr>\n",
              "    <tr>\n",
              "      <th>100849</th>\n",
              "      <td>0.065</td>\n",
              "      <td>-0.046</td>\n",
              "      <td>-0.325</td>\n",
              "      <td>-37.537</td>\n",
              "      <td>-62.439</td>\n",
              "      <td>-104.187</td>\n",
              "      <td>171.354</td>\n",
              "      <td>19.270</td>\n",
              "      <td>139.867</td>\n",
              "      <td>running</td>\n",
              "    </tr>\n",
              "    <tr>\n",
              "      <th>115034</th>\n",
              "      <td>-0.719</td>\n",
              "      <td>0.060</td>\n",
              "      <td>-0.695</td>\n",
              "      <td>-5.737</td>\n",
              "      <td>7.751</td>\n",
              "      <td>-2.563</td>\n",
              "      <td>173.831</td>\n",
              "      <td>45.505</td>\n",
              "      <td>17.699</td>\n",
              "      <td>sitting</td>\n",
              "    </tr>\n",
              "    <tr>\n",
              "      <th>6679</th>\n",
              "      <td>-0.624</td>\n",
              "      <td>0.271</td>\n",
              "      <td>-0.887</td>\n",
              "      <td>-44.250</td>\n",
              "      <td>-9.888</td>\n",
              "      <td>-101.929</td>\n",
              "      <td>-167.882</td>\n",
              "      <td>30.509</td>\n",
              "      <td>97.333</td>\n",
              "      <td>climbing</td>\n",
              "    </tr>\n",
              "  </tbody>\n",
              "</table>\n",
              "</div>"
            ],
            "text/plain": [
              "           ax     ay     az      wx       wy       wz   AngleX  AngleY  \\\n",
              "97463  -0.378 -0.083 -1.469  74.890  -42.053  -41.870  176.484  12.980   \n",
              "91086  -0.512  0.249 -1.188 -13.123 -197.327   67.627 -179.006  11.761   \n",
              "100849  0.065 -0.046 -0.325 -37.537  -62.439 -104.187  171.354  19.270   \n",
              "115034 -0.719  0.060 -0.695  -5.737    7.751   -2.563  173.831  45.505   \n",
              "6679   -0.624  0.271 -0.887 -44.250   -9.888 -101.929 -167.882  30.509   \n",
              "\n",
              "         AngleZ     label  \n",
              "97463   107.276   running  \n",
              "91086  -135.049   running  \n",
              "100849  139.867   running  \n",
              "115034   17.699   sitting  \n",
              "6679     97.333  climbing  "
            ]
          },
          "execution_count": 267,
          "metadata": {},
          "output_type": "execute_result"
        }
      ],
      "source": [
        "df = pd.read_csv(\"../data/train/combined_data.csv\")\n",
        "df.sample(5)"
      ]
    },
    {
      "cell_type": "code",
      "execution_count": 268,
      "metadata": {
        "colab": {
          "base_uri": "https://localhost:8080/"
        },
        "id": "_XOJjtg8jbK6",
        "outputId": "62e192f7-9def-4e87-d631-9b172babd985"
      },
      "outputs": [
        {
          "data": {
            "text/plain": [
              "(170260, 10)"
            ]
          },
          "execution_count": 268,
          "metadata": {},
          "output_type": "execute_result"
        }
      ],
      "source": [
        "df.shape"
      ]
    },
    {
      "cell_type": "code",
      "execution_count": 269,
      "metadata": {
        "colab": {
          "base_uri": "https://localhost:8080/"
        },
        "id": "QZNRIupGjdFb",
        "outputId": "68abe5f7-aa65-41ce-9c1f-9e0c76a274a7"
      },
      "outputs": [
        {
          "name": "stdout",
          "output_type": "stream",
          "text": [
            "<class 'pandas.core.frame.DataFrame'>\n",
            "RangeIndex: 170260 entries, 0 to 170259\n",
            "Data columns (total 10 columns):\n",
            " #   Column  Non-Null Count   Dtype  \n",
            "---  ------  --------------   -----  \n",
            " 0   ax      170260 non-null  float64\n",
            " 1   ay      170260 non-null  float64\n",
            " 2   az      170260 non-null  float64\n",
            " 3   wx      170260 non-null  float64\n",
            " 4   wy      170260 non-null  float64\n",
            " 5   wz      170260 non-null  float64\n",
            " 6   AngleX  170260 non-null  float64\n",
            " 7   AngleY  170260 non-null  float64\n",
            " 8   AngleZ  170260 non-null  float64\n",
            " 9   label   170260 non-null  object \n",
            "dtypes: float64(9), object(1)\n",
            "memory usage: 13.0+ MB\n"
          ]
        }
      ],
      "source": [
        "df.info()"
      ]
    },
    {
      "cell_type": "code",
      "execution_count": 270,
      "metadata": {
        "colab": {
          "base_uri": "https://localhost:8080/",
          "height": 300
        },
        "id": "F95lTIxNjeDa",
        "outputId": "86dda8b8-ecce-4fac-dc0f-a58ce9338ec5"
      },
      "outputs": [
        {
          "data": {
            "text/html": [
              "<div>\n",
              "<style scoped>\n",
              "    .dataframe tbody tr th:only-of-type {\n",
              "        vertical-align: middle;\n",
              "    }\n",
              "\n",
              "    .dataframe tbody tr th {\n",
              "        vertical-align: top;\n",
              "    }\n",
              "\n",
              "    .dataframe thead th {\n",
              "        text-align: right;\n",
              "    }\n",
              "</style>\n",
              "<table border=\"1\" class=\"dataframe\">\n",
              "  <thead>\n",
              "    <tr style=\"text-align: right;\">\n",
              "      <th></th>\n",
              "      <th>ax</th>\n",
              "      <th>ay</th>\n",
              "      <th>az</th>\n",
              "      <th>wx</th>\n",
              "      <th>wy</th>\n",
              "      <th>wz</th>\n",
              "      <th>AngleX</th>\n",
              "      <th>AngleY</th>\n",
              "      <th>AngleZ</th>\n",
              "    </tr>\n",
              "  </thead>\n",
              "  <tbody>\n",
              "    <tr>\n",
              "      <th>count</th>\n",
              "      <td>170260.000000</td>\n",
              "      <td>170260.000000</td>\n",
              "      <td>170260.000000</td>\n",
              "      <td>170260.000000</td>\n",
              "      <td>170260.000000</td>\n",
              "      <td>170260.000000</td>\n",
              "      <td>170260.000000</td>\n",
              "      <td>170260.000000</td>\n",
              "      <td>170260.000000</td>\n",
              "    </tr>\n",
              "    <tr>\n",
              "      <th>mean</th>\n",
              "      <td>-0.212845</td>\n",
              "      <td>0.092447</td>\n",
              "      <td>-0.880495</td>\n",
              "      <td>-0.888306</td>\n",
              "      <td>-0.676773</td>\n",
              "      <td>-0.120438</td>\n",
              "      <td>94.730543</td>\n",
              "      <td>14.866423</td>\n",
              "      <td>-13.224977</td>\n",
              "    </tr>\n",
              "    <tr>\n",
              "      <th>std</th>\n",
              "      <td>0.553140</td>\n",
              "      <td>0.282003</td>\n",
              "      <td>0.597359</td>\n",
              "      <td>49.965501</td>\n",
              "      <td>65.428640</td>\n",
              "      <td>64.166753</td>\n",
              "      <td>140.125893</td>\n",
              "      <td>25.576858</td>\n",
              "      <td>86.487866</td>\n",
              "    </tr>\n",
              "    <tr>\n",
              "      <th>min</th>\n",
              "      <td>-12.522000</td>\n",
              "      <td>-11.078000</td>\n",
              "      <td>-15.465000</td>\n",
              "      <td>-614.380000</td>\n",
              "      <td>-686.646000</td>\n",
              "      <td>-490.479000</td>\n",
              "      <td>-179.995000</td>\n",
              "      <td>-69.911000</td>\n",
              "      <td>-179.995000</td>\n",
              "    </tr>\n",
              "    <tr>\n",
              "      <th>25%</th>\n",
              "      <td>-0.655000</td>\n",
              "      <td>-0.022000</td>\n",
              "      <td>-0.987000</td>\n",
              "      <td>-11.719000</td>\n",
              "      <td>-12.085000</td>\n",
              "      <td>-13.733000</td>\n",
              "      <td>160.999000</td>\n",
              "      <td>-4.170500</td>\n",
              "      <td>-82.497500</td>\n",
              "    </tr>\n",
              "    <tr>\n",
              "      <th>50%</th>\n",
              "      <td>-0.112000</td>\n",
              "      <td>0.126000</td>\n",
              "      <td>-0.891000</td>\n",
              "      <td>-0.305000</td>\n",
              "      <td>0.122000</td>\n",
              "      <td>0.305000</td>\n",
              "      <td>167.673000</td>\n",
              "      <td>14.683000</td>\n",
              "      <td>-18.913000</td>\n",
              "    </tr>\n",
              "    <tr>\n",
              "      <th>75%</th>\n",
              "      <td>0.134000</td>\n",
              "      <td>0.251000</td>\n",
              "      <td>-0.625000</td>\n",
              "      <td>5.737000</td>\n",
              "      <td>6.042000</td>\n",
              "      <td>9.399000</td>\n",
              "      <td>170.497000</td>\n",
              "      <td>35.404500</td>\n",
              "      <td>45.940500</td>\n",
              "    </tr>\n",
              "    <tr>\n",
              "      <th>max</th>\n",
              "      <td>9.617000</td>\n",
              "      <td>6.222000</td>\n",
              "      <td>15.990000</td>\n",
              "      <td>513.916000</td>\n",
              "      <td>873.108000</td>\n",
              "      <td>788.513000</td>\n",
              "      <td>179.995000</td>\n",
              "      <td>89.418000</td>\n",
              "      <td>179.995000</td>\n",
              "    </tr>\n",
              "  </tbody>\n",
              "</table>\n",
              "</div>"
            ],
            "text/plain": [
              "                  ax             ay             az             wx  \\\n",
              "count  170260.000000  170260.000000  170260.000000  170260.000000   \n",
              "mean       -0.212845       0.092447      -0.880495      -0.888306   \n",
              "std         0.553140       0.282003       0.597359      49.965501   \n",
              "min       -12.522000     -11.078000     -15.465000    -614.380000   \n",
              "25%        -0.655000      -0.022000      -0.987000     -11.719000   \n",
              "50%        -0.112000       0.126000      -0.891000      -0.305000   \n",
              "75%         0.134000       0.251000      -0.625000       5.737000   \n",
              "max         9.617000       6.222000      15.990000     513.916000   \n",
              "\n",
              "                  wy             wz         AngleX         AngleY  \\\n",
              "count  170260.000000  170260.000000  170260.000000  170260.000000   \n",
              "mean       -0.676773      -0.120438      94.730543      14.866423   \n",
              "std        65.428640      64.166753     140.125893      25.576858   \n",
              "min      -686.646000    -490.479000    -179.995000     -69.911000   \n",
              "25%       -12.085000     -13.733000     160.999000      -4.170500   \n",
              "50%         0.122000       0.305000     167.673000      14.683000   \n",
              "75%         6.042000       9.399000     170.497000      35.404500   \n",
              "max       873.108000     788.513000     179.995000      89.418000   \n",
              "\n",
              "              AngleZ  \n",
              "count  170260.000000  \n",
              "mean      -13.224977  \n",
              "std        86.487866  \n",
              "min      -179.995000  \n",
              "25%       -82.497500  \n",
              "50%       -18.913000  \n",
              "75%        45.940500  \n",
              "max       179.995000  "
            ]
          },
          "execution_count": 270,
          "metadata": {},
          "output_type": "execute_result"
        }
      ],
      "source": [
        "df.describe()"
      ]
    },
    {
      "cell_type": "code",
      "execution_count": 271,
      "metadata": {
        "colab": {
          "base_uri": "https://localhost:8080/"
        },
        "id": "-OfV4nPVjg1a",
        "outputId": "9f898b10-6882-4192-a070-befc075389fa"
      },
      "outputs": [
        {
          "data": {
            "text/plain": [
              "ax        0\n",
              "ay        0\n",
              "az        0\n",
              "wx        0\n",
              "wy        0\n",
              "wz        0\n",
              "AngleX    0\n",
              "AngleY    0\n",
              "AngleZ    0\n",
              "label     0\n",
              "dtype: int64"
            ]
          },
          "execution_count": 271,
          "metadata": {},
          "output_type": "execute_result"
        }
      ],
      "source": [
        "df.isnull().sum()"
      ]
    },
    {
      "cell_type": "code",
      "execution_count": 272,
      "metadata": {
        "id": "okbSZqD7jiTp"
      },
      "outputs": [],
      "source": [
        "df.dropna(inplace=True)"
      ]
    },
    {
      "cell_type": "code",
      "execution_count": 273,
      "metadata": {},
      "outputs": [
        {
          "data": {
            "text/plain": [
              "label\n",
              "lying       42399\n",
              "sitting     35999\n",
              "running     32899\n",
              "walking     29999\n",
              "climbing    28964\n",
              "Name: count, dtype: int64"
            ]
          },
          "execution_count": 273,
          "metadata": {},
          "output_type": "execute_result"
        }
      ],
      "source": [
        "df[\"label\"].value_counts()"
      ]
    },
    {
      "cell_type": "code",
      "execution_count": 274,
      "metadata": {
        "id": "nkPGd5_xjj7a"
      },
      "outputs": [],
      "source": [
        "df.reset_index(drop=True, inplace=True)"
      ]
    },
    {
      "cell_type": "code",
      "execution_count": 275,
      "metadata": {
        "colab": {
          "base_uri": "https://localhost:8080/",
          "height": 989
        },
        "id": "veHhItHMoY7S",
        "outputId": "bffd430f-a971-4faa-a99f-15a232f84839"
      },
      "outputs": [
        {
          "data": {
            "text/html": [
              "<div>\n",
              "<style scoped>\n",
              "    .dataframe tbody tr th:only-of-type {\n",
              "        vertical-align: middle;\n",
              "    }\n",
              "\n",
              "    .dataframe tbody tr th {\n",
              "        vertical-align: top;\n",
              "    }\n",
              "\n",
              "    .dataframe thead th {\n",
              "        text-align: right;\n",
              "    }\n",
              "</style>\n",
              "<table border=\"1\" class=\"dataframe\">\n",
              "  <thead>\n",
              "    <tr style=\"text-align: right;\">\n",
              "      <th></th>\n",
              "      <th>ax</th>\n",
              "      <th>ay</th>\n",
              "      <th>az</th>\n",
              "      <th>wx</th>\n",
              "      <th>wy</th>\n",
              "      <th>wz</th>\n",
              "      <th>AngleX</th>\n",
              "      <th>AngleY</th>\n",
              "      <th>AngleZ</th>\n",
              "      <th>label</th>\n",
              "    </tr>\n",
              "  </thead>\n",
              "  <tbody>\n",
              "    <tr>\n",
              "      <th>147183</th>\n",
              "      <td>-0.140</td>\n",
              "      <td>0.147</td>\n",
              "      <td>-1.020</td>\n",
              "      <td>26.550</td>\n",
              "      <td>23.499</td>\n",
              "      <td>64.514</td>\n",
              "      <td>176.957</td>\n",
              "      <td>14.381</td>\n",
              "      <td>1.582</td>\n",
              "      <td>walking</td>\n",
              "    </tr>\n",
              "    <tr>\n",
              "      <th>39543</th>\n",
              "      <td>0.058</td>\n",
              "      <td>0.187</td>\n",
              "      <td>-0.987</td>\n",
              "      <td>-0.305</td>\n",
              "      <td>-0.061</td>\n",
              "      <td>0.610</td>\n",
              "      <td>168.662</td>\n",
              "      <td>-3.719</td>\n",
              "      <td>-21.204</td>\n",
              "      <td>lying</td>\n",
              "    </tr>\n",
              "    <tr>\n",
              "      <th>13785</th>\n",
              "      <td>0.205</td>\n",
              "      <td>-0.235</td>\n",
              "      <td>-1.689</td>\n",
              "      <td>200.012</td>\n",
              "      <td>-336.182</td>\n",
              "      <td>235.168</td>\n",
              "      <td>-147.090</td>\n",
              "      <td>41.303</td>\n",
              "      <td>156.099</td>\n",
              "      <td>climbing</td>\n",
              "    </tr>\n",
              "    <tr>\n",
              "      <th>157913</th>\n",
              "      <td>-0.388</td>\n",
              "      <td>-0.252</td>\n",
              "      <td>-0.776</td>\n",
              "      <td>-25.146</td>\n",
              "      <td>-35.828</td>\n",
              "      <td>-40.161</td>\n",
              "      <td>-170.997</td>\n",
              "      <td>23.588</td>\n",
              "      <td>124.305</td>\n",
              "      <td>walking</td>\n",
              "    </tr>\n",
              "    <tr>\n",
              "      <th>169651</th>\n",
              "      <td>0.275</td>\n",
              "      <td>0.229</td>\n",
              "      <td>-1.018</td>\n",
              "      <td>69.702</td>\n",
              "      <td>38.086</td>\n",
              "      <td>-1.526</td>\n",
              "      <td>178.110</td>\n",
              "      <td>-21.182</td>\n",
              "      <td>-130.111</td>\n",
              "      <td>walking</td>\n",
              "    </tr>\n",
              "  </tbody>\n",
              "</table>\n",
              "</div>"
            ],
            "text/plain": [
              "           ax     ay     az       wx       wy       wz   AngleX  AngleY  \\\n",
              "147183 -0.140  0.147 -1.020   26.550   23.499   64.514  176.957  14.381   \n",
              "39543   0.058  0.187 -0.987   -0.305   -0.061    0.610  168.662  -3.719   \n",
              "13785   0.205 -0.235 -1.689  200.012 -336.182  235.168 -147.090  41.303   \n",
              "157913 -0.388 -0.252 -0.776  -25.146  -35.828  -40.161 -170.997  23.588   \n",
              "169651  0.275  0.229 -1.018   69.702   38.086   -1.526  178.110 -21.182   \n",
              "\n",
              "         AngleZ     label  \n",
              "147183    1.582   walking  \n",
              "39543   -21.204     lying  \n",
              "13785   156.099  climbing  \n",
              "157913  124.305   walking  \n",
              "169651 -130.111   walking  "
            ]
          },
          "execution_count": 275,
          "metadata": {},
          "output_type": "execute_result"
        }
      ],
      "source": [
        "df.sample(5)"
      ]
    },
    {
      "cell_type": "code",
      "execution_count": 276,
      "metadata": {
        "id": "vwAdTfm6qIzM"
      },
      "outputs": [],
      "source": [
        "X = df.iloc[:, :-1]\n",
        "y = df['label']"
      ]
    },
    {
      "cell_type": "code",
      "execution_count": 277,
      "metadata": {},
      "outputs": [
        {
          "data": {
            "text/plain": [
              "Index(['ax', 'ay', 'az', 'wx', 'wy', 'wz', 'AngleX', 'AngleY', 'AngleZ'], dtype='object')"
            ]
          },
          "execution_count": 277,
          "metadata": {},
          "output_type": "execute_result"
        }
      ],
      "source": [
        "X.columns"
      ]
    },
    {
      "cell_type": "code",
      "execution_count": 278,
      "metadata": {},
      "outputs": [
        {
          "data": {
            "text/plain": [
              "(170260, 9)"
            ]
          },
          "execution_count": 278,
          "metadata": {},
          "output_type": "execute_result"
        }
      ],
      "source": [
        "X.shape"
      ]
    },
    {
      "cell_type": "code",
      "execution_count": 279,
      "metadata": {
        "id": "qqXnRhTalTda"
      },
      "outputs": [
        {
          "data": {
            "text/html": [
              "<div>\n",
              "<style scoped>\n",
              "    .dataframe tbody tr th:only-of-type {\n",
              "        vertical-align: middle;\n",
              "    }\n",
              "\n",
              "    .dataframe tbody tr th {\n",
              "        vertical-align: top;\n",
              "    }\n",
              "\n",
              "    .dataframe thead th {\n",
              "        text-align: right;\n",
              "    }\n",
              "</style>\n",
              "<table border=\"1\" class=\"dataframe\">\n",
              "  <thead>\n",
              "    <tr style=\"text-align: right;\">\n",
              "      <th></th>\n",
              "      <th>ax</th>\n",
              "      <th>ay</th>\n",
              "      <th>az</th>\n",
              "      <th>wx</th>\n",
              "      <th>wy</th>\n",
              "      <th>wz</th>\n",
              "      <th>AngleX</th>\n",
              "      <th>AngleY</th>\n",
              "      <th>AngleZ</th>\n",
              "    </tr>\n",
              "  </thead>\n",
              "  <tbody>\n",
              "    <tr>\n",
              "      <th>0</th>\n",
              "      <td>-1.115733</td>\n",
              "      <td>-0.661155</td>\n",
              "      <td>0.606831</td>\n",
              "      <td>1.018232</td>\n",
              "      <td>0.856444</td>\n",
              "      <td>-0.347215</td>\n",
              "      <td>-1.743541</td>\n",
              "      <td>1.107511</td>\n",
              "      <td>-0.820372</td>\n",
              "    </tr>\n",
              "    <tr>\n",
              "      <th>1</th>\n",
              "      <td>-1.115733</td>\n",
              "      <td>-0.845551</td>\n",
              "      <td>0.677140</td>\n",
              "      <td>0.491747</td>\n",
              "      <td>0.717452</td>\n",
              "      <td>-0.391926</td>\n",
              "      <td>-1.742606</td>\n",
              "      <td>1.088588</td>\n",
              "      <td>-0.818915</td>\n",
              "    </tr>\n",
              "    <tr>\n",
              "      <th>2</th>\n",
              "      <td>-1.157314</td>\n",
              "      <td>-0.845551</td>\n",
              "      <td>0.677140</td>\n",
              "      <td>0.491747</td>\n",
              "      <td>0.717452</td>\n",
              "      <td>-0.391926</td>\n",
              "      <td>-1.741700</td>\n",
              "      <td>1.069899</td>\n",
              "      <td>-0.817516</td>\n",
              "    </tr>\n",
              "    <tr>\n",
              "      <th>3</th>\n",
              "      <td>-1.157314</td>\n",
              "      <td>-1.214343</td>\n",
              "      <td>0.747450</td>\n",
              "      <td>-0.067721</td>\n",
              "      <td>0.427334</td>\n",
              "      <td>-0.418560</td>\n",
              "      <td>-1.742057</td>\n",
              "      <td>1.057466</td>\n",
              "      <td>-0.814337</td>\n",
              "    </tr>\n",
              "    <tr>\n",
              "      <th>4</th>\n",
              "      <td>-1.251323</td>\n",
              "      <td>-1.214343</td>\n",
              "      <td>0.747450</td>\n",
              "      <td>-0.067721</td>\n",
              "      <td>0.427334</td>\n",
              "      <td>-0.418560</td>\n",
              "      <td>-1.742406</td>\n",
              "      <td>1.045424</td>\n",
              "      <td>-0.811226</td>\n",
              "    </tr>\n",
              "  </tbody>\n",
              "</table>\n",
              "</div>"
            ],
            "text/plain": [
              "         ax        ay        az        wx        wy        wz    AngleX  \\\n",
              "0 -1.115733 -0.661155  0.606831  1.018232  0.856444 -0.347215 -1.743541   \n",
              "1 -1.115733 -0.845551  0.677140  0.491747  0.717452 -0.391926 -1.742606   \n",
              "2 -1.157314 -0.845551  0.677140  0.491747  0.717452 -0.391926 -1.741700   \n",
              "3 -1.157314 -1.214343  0.747450 -0.067721  0.427334 -0.418560 -1.742057   \n",
              "4 -1.251323 -1.214343  0.747450 -0.067721  0.427334 -0.418560 -1.742406   \n",
              "\n",
              "     AngleY    AngleZ  \n",
              "0  1.107511 -0.820372  \n",
              "1  1.088588 -0.818915  \n",
              "2  1.069899 -0.817516  \n",
              "3  1.057466 -0.814337  \n",
              "4  1.045424 -0.811226  "
            ]
          },
          "execution_count": 279,
          "metadata": {},
          "output_type": "execute_result"
        }
      ],
      "source": [
        "from sklearn.preprocessing import StandardScaler\n",
        "scaler = StandardScaler()\n",
        "X_scaled = scaler.fit_transform(X)\n",
        "\n",
        "X_scaled_df = pd.DataFrame(X_scaled, columns=X.columns)\n",
        "X_scaled_df.head()"
      ]
    },
    {
      "cell_type": "code",
      "execution_count": 280,
      "metadata": {
        "id": "qV0ryayprDnr"
      },
      "outputs": [],
      "source": [
        "import tensorflow as tf\n",
        "from tensorflow import keras\n",
        "from keras import Sequential\n",
        "from sklearn.model_selection import train_test_split\n",
        "from keras.layers import Dense, Conv1D, MaxPooling1D, Flatten, BatchNormalization, Dropout, Dense\n",
        "from keras.utils import to_categorical\n",
        "from sklearn.preprocessing import LabelEncoder"
      ]
    },
    {
      "cell_type": "code",
      "execution_count": 281,
      "metadata": {},
      "outputs": [
        {
          "data": {
            "text/plain": [
              "Index(['ax', 'ay', 'az', 'wx', 'wy', 'wz', 'AngleX', 'AngleY', 'AngleZ',\n",
              "       'label'],\n",
              "      dtype='object')"
            ]
          },
          "execution_count": 281,
          "metadata": {},
          "output_type": "execute_result"
        }
      ],
      "source": [
        "df.columns"
      ]
    },
    {
      "cell_type": "code",
      "execution_count": 319,
      "metadata": {},
      "outputs": [],
      "source": [
        "# Extracting features and labels\n",
        "X = X_scaled_df[['ax', 'ay', 'az', 'wx', 'wy',\n",
        "                 'wz', 'AngleX', 'AngleY', 'AngleZ']].values\n",
        "y = df['label'].values\n",
        "\n",
        "# Encoding labels\n",
        "label_encoder = LabelEncoder()\n",
        "y_encoded = label_encoder.fit_transform(y)\n",
        "num_classes = len(label_encoder.classes_)\n",
        "y_categorical = to_categorical(y_encoded, num_classes=num_classes)\n",
        "\n",
        "# Sliding window parameters\n",
        "window_size = 128  # Adjust as needed\n",
        "stride = 16  # Adjust as needed\n",
        "\n",
        "# Generate sequences using sliding windows\n",
        "sequences = []\n",
        "labels = []\n",
        "\n",
        "for i in range(0, len(X) - window_size + 1, stride):\n",
        "    window = X[i:i+window_size]\n",
        "    label = y_categorical[i+window_size-1]\n",
        "    if len(window) == window_size:\n",
        "        sequences.append(window)\n",
        "        labels.append(label)\n",
        "\n",
        "\n",
        "X_sliding = np.array(sequences)\n",
        "y_sliding = np.array(labels)\n",
        "\n",
        "X_train, X_test, y_train, y_test = train_test_split(\n",
        "    X_sliding, y_sliding, test_size=0.2, random_state=42, shuffle=True)"
      ]
    },
    {
      "cell_type": "code",
      "execution_count": 320,
      "metadata": {},
      "outputs": [],
      "source": [
        "# Build the CNN model\n",
        "model = Sequential()\n",
        "\n",
        "model.add(Conv1D(128, kernel_size=3, activation='relu',\n",
        "          input_shape=(window_size, X_scaled.shape[1])))\n",
        "model.add(MaxPooling1D(pool_size=2, padding=\"valid\"))\n",
        "\n",
        "model.add(Conv1D(128, kernel_size=3, activation='relu'))\n",
        "model.add(MaxPooling1D(pool_size=2, padding=\"valid\"))\n",
        "\n",
        "model.add(Conv1D(256, kernel_size=3, activation='relu'))\n",
        "model.add(MaxPooling1D(pool_size=2, padding=\"valid\"))\n",
        "\n",
        "model.add(Conv1D(256, kernel_size=3, activation='relu'))\n",
        "model.add(MaxPooling1D(pool_size=2, padding=\"valid\"))\n",
        "\n",
        "\n",
        "model.add(Flatten())\n",
        "model.add(Dense(128, activation='relu'))\n",
        "model.add(Dropout(0.2))\n",
        "model.add(Dense(64, activation='relu'))\n",
        "model.add(Dropout(0.2))\n",
        "\n",
        "model.add(Dense(num_classes, activation='softmax'))"
      ]
    },
    {
      "cell_type": "code",
      "execution_count": 321,
      "metadata": {},
      "outputs": [],
      "source": [
        "from tensorflow.keras.optimizers import Adam, SGD\n",
        "# Compile the model\n",
        "custom_learning_rate = 0.01\n",
        "custom_optimizer = SGD(learning_rate=custom_learning_rate)\n",
        "model.compile(optimizer=custom_optimizer, loss='categorical_crossentropy',\n",
        "              metrics=['accuracy'])"
      ]
    },
    {
      "cell_type": "code",
      "execution_count": 322,
      "metadata": {},
      "outputs": [],
      "source": [
        "callback = tf.keras.callbacks.EarlyStopping(monitor='val_loss', patience=5)"
      ]
    },
    {
      "cell_type": "code",
      "execution_count": 323,
      "metadata": {},
      "outputs": [
        {
          "name": "stdout",
          "output_type": "stream",
          "text": [
            "Epoch 1/250\n",
            "26/26 [==============================] - 1s 30ms/step - loss: 1.5649 - accuracy: 0.2354 - val_loss: 1.5101 - val_accuracy: 0.1940\n",
            "Epoch 2/250\n",
            "26/26 [==============================] - 1s 20ms/step - loss: 1.4533 - accuracy: 0.3574 - val_loss: 1.4083 - val_accuracy: 0.4129\n",
            "Epoch 3/250\n",
            "26/26 [==============================] - 1s 21ms/step - loss: 1.3723 - accuracy: 0.4807 - val_loss: 1.3031 - val_accuracy: 0.6667\n",
            "Epoch 4/250\n",
            "26/26 [==============================] - 1s 20ms/step - loss: 1.2713 - accuracy: 0.6214 - val_loss: 1.2161 - val_accuracy: 0.6965\n",
            "Epoch 5/250\n",
            "26/26 [==============================] - 1s 20ms/step - loss: 1.1787 - accuracy: 0.6862 - val_loss: 1.1286 - val_accuracy: 0.6567\n",
            "Epoch 6/250\n",
            "26/26 [==============================] - 0s 19ms/step - loss: 1.0616 - accuracy: 0.7173 - val_loss: 1.0688 - val_accuracy: 0.6567\n",
            "Epoch 7/250\n",
            "26/26 [==============================] - 1s 19ms/step - loss: 0.9486 - accuracy: 0.7410 - val_loss: 0.8825 - val_accuracy: 0.7861\n",
            "Epoch 8/250\n",
            "26/26 [==============================] - 1s 20ms/step - loss: 0.8557 - accuracy: 0.7509 - val_loss: 0.7873 - val_accuracy: 0.7861\n",
            "Epoch 9/250\n",
            "26/26 [==============================] - 1s 19ms/step - loss: 0.7741 - accuracy: 0.7559 - val_loss: 0.8802 - val_accuracy: 0.6716\n",
            "Epoch 10/250\n",
            "26/26 [==============================] - 0s 19ms/step - loss: 0.6881 - accuracy: 0.7783 - val_loss: 0.6701 - val_accuracy: 0.7413\n",
            "Epoch 11/250\n",
            "26/26 [==============================] - 1s 20ms/step - loss: 0.6320 - accuracy: 0.8082 - val_loss: 0.5948 - val_accuracy: 0.7910\n",
            "Epoch 12/250\n",
            "26/26 [==============================] - 0s 19ms/step - loss: 0.5771 - accuracy: 0.8157 - val_loss: 0.5377 - val_accuracy: 0.8358\n",
            "Epoch 13/250\n",
            "26/26 [==============================] - 0s 19ms/step - loss: 0.5312 - accuracy: 0.8244 - val_loss: 0.7050 - val_accuracy: 0.7114\n",
            "Epoch 14/250\n",
            "26/26 [==============================] - 1s 19ms/step - loss: 0.5029 - accuracy: 0.8169 - val_loss: 0.4732 - val_accuracy: 0.8209\n",
            "Epoch 15/250\n",
            "26/26 [==============================] - 1s 19ms/step - loss: 0.4502 - accuracy: 0.8531 - val_loss: 0.4172 - val_accuracy: 0.8159\n",
            "Epoch 16/250\n",
            "26/26 [==============================] - 0s 19ms/step - loss: 0.4444 - accuracy: 0.8456 - val_loss: 0.4252 - val_accuracy: 0.8209\n",
            "Epoch 17/250\n",
            "26/26 [==============================] - 1s 19ms/step - loss: 0.3846 - accuracy: 0.8804 - val_loss: 0.3570 - val_accuracy: 0.8706\n",
            "Epoch 18/250\n",
            "26/26 [==============================] - 1s 20ms/step - loss: 0.3784 - accuracy: 0.8879 - val_loss: 0.3231 - val_accuracy: 0.8806\n",
            "Epoch 19/250\n",
            "26/26 [==============================] - 1s 20ms/step - loss: 0.3750 - accuracy: 0.8780 - val_loss: 0.3682 - val_accuracy: 0.8408\n",
            "Epoch 20/250\n",
            "26/26 [==============================] - 1s 20ms/step - loss: 0.3269 - accuracy: 0.8929 - val_loss: 0.4789 - val_accuracy: 0.8109\n",
            "Epoch 21/250\n",
            "26/26 [==============================] - 0s 19ms/step - loss: 0.3083 - accuracy: 0.9078 - val_loss: 0.2592 - val_accuracy: 0.8955\n",
            "Epoch 22/250\n",
            "26/26 [==============================] - 1s 19ms/step - loss: 0.3027 - accuracy: 0.9041 - val_loss: 0.8481 - val_accuracy: 0.7015\n",
            "Epoch 23/250\n",
            "26/26 [==============================] - 1s 19ms/step - loss: 0.2972 - accuracy: 0.9066 - val_loss: 0.2318 - val_accuracy: 0.9254\n",
            "Epoch 24/250\n",
            "26/26 [==============================] - 1s 19ms/step - loss: 0.2831 - accuracy: 0.9178 - val_loss: 0.2088 - val_accuracy: 0.9403\n",
            "Epoch 25/250\n",
            "26/26 [==============================] - 1s 19ms/step - loss: 0.2564 - accuracy: 0.9278 - val_loss: 0.2201 - val_accuracy: 0.9502\n",
            "Epoch 26/250\n",
            "26/26 [==============================] - 0s 19ms/step - loss: 0.2317 - accuracy: 0.9240 - val_loss: 0.2605 - val_accuracy: 0.9104\n",
            "Epoch 27/250\n",
            "26/26 [==============================] - 1s 19ms/step - loss: 0.2376 - accuracy: 0.9303 - val_loss: 0.1945 - val_accuracy: 0.9104\n",
            "Epoch 28/250\n",
            "26/26 [==============================] - 0s 19ms/step - loss: 0.2209 - accuracy: 0.9390 - val_loss: 0.9484 - val_accuracy: 0.7662\n",
            "Epoch 29/250\n",
            "26/26 [==============================] - 1s 19ms/step - loss: 0.2421 - accuracy: 0.9365 - val_loss: 0.2146 - val_accuracy: 0.9104\n",
            "Epoch 30/250\n",
            "26/26 [==============================] - 0s 19ms/step - loss: 0.1826 - accuracy: 0.9465 - val_loss: 0.1390 - val_accuracy: 0.9602\n",
            "Epoch 31/250\n",
            "26/26 [==============================] - 1s 20ms/step - loss: 0.1844 - accuracy: 0.9452 - val_loss: 0.1470 - val_accuracy: 0.9353\n",
            "Epoch 32/250\n",
            "26/26 [==============================] - 1s 20ms/step - loss: 0.1765 - accuracy: 0.9465 - val_loss: 0.1164 - val_accuracy: 0.9751\n",
            "Epoch 33/250\n",
            "26/26 [==============================] - 1s 21ms/step - loss: 0.1604 - accuracy: 0.9601 - val_loss: 0.1230 - val_accuracy: 0.9652\n",
            "Epoch 34/250\n",
            "26/26 [==============================] - 1s 20ms/step - loss: 0.1575 - accuracy: 0.9527 - val_loss: 0.1216 - val_accuracy: 0.9751\n",
            "Epoch 35/250\n",
            "26/26 [==============================] - 1s 20ms/step - loss: 0.1519 - accuracy: 0.9564 - val_loss: 0.1184 - val_accuracy: 0.9652\n",
            "Epoch 36/250\n",
            "26/26 [==============================] - 1s 20ms/step - loss: 0.1832 - accuracy: 0.9539 - val_loss: 0.1097 - val_accuracy: 0.9602\n",
            "Epoch 37/250\n",
            "26/26 [==============================] - 1s 20ms/step - loss: 0.1332 - accuracy: 0.9726 - val_loss: 0.0758 - val_accuracy: 0.9851\n",
            "Epoch 38/250\n",
            "26/26 [==============================] - 1s 20ms/step - loss: 0.1469 - accuracy: 0.9589 - val_loss: 0.0769 - val_accuracy: 0.9751\n",
            "Epoch 39/250\n",
            "26/26 [==============================] - 1s 21ms/step - loss: 0.1172 - accuracy: 0.9726 - val_loss: 2.3275 - val_accuracy: 0.4776\n",
            "Epoch 40/250\n",
            "26/26 [==============================] - 1s 22ms/step - loss: 0.2298 - accuracy: 0.9390 - val_loss: 0.0813 - val_accuracy: 0.9900\n",
            "Epoch 41/250\n",
            "26/26 [==============================] - 1s 22ms/step - loss: 0.1173 - accuracy: 0.9801 - val_loss: 0.0704 - val_accuracy: 0.9851\n",
            "Epoch 42/250\n",
            "26/26 [==============================] - 1s 21ms/step - loss: 0.1222 - accuracy: 0.9776 - val_loss: 0.0612 - val_accuracy: 0.9900\n",
            "Epoch 43/250\n",
            "26/26 [==============================] - 1s 23ms/step - loss: 0.1292 - accuracy: 0.9651 - val_loss: 0.0713 - val_accuracy: 0.9851\n",
            "Epoch 44/250\n",
            "26/26 [==============================] - 1s 22ms/step - loss: 0.0883 - accuracy: 0.9813 - val_loss: 0.0543 - val_accuracy: 0.9851\n",
            "Epoch 45/250\n",
            "26/26 [==============================] - 1s 21ms/step - loss: 0.0838 - accuracy: 0.9838 - val_loss: 0.0461 - val_accuracy: 0.9801\n",
            "Epoch 46/250\n",
            "26/26 [==============================] - 1s 22ms/step - loss: 0.0776 - accuracy: 0.9863 - val_loss: 0.2049 - val_accuracy: 0.9104\n",
            "Epoch 47/250\n",
            "26/26 [==============================] - 1s 21ms/step - loss: 0.0749 - accuracy: 0.9851 - val_loss: 0.0636 - val_accuracy: 0.9801\n",
            "Epoch 48/250\n",
            "26/26 [==============================] - 1s 21ms/step - loss: 0.0861 - accuracy: 0.9813 - val_loss: 0.0394 - val_accuracy: 0.9900\n",
            "Epoch 49/250\n",
            "26/26 [==============================] - 1s 21ms/step - loss: 0.0821 - accuracy: 0.9813 - val_loss: 0.0393 - val_accuracy: 0.9900\n",
            "Epoch 50/250\n",
            "26/26 [==============================] - 1s 21ms/step - loss: 0.0680 - accuracy: 0.9888 - val_loss: 0.0368 - val_accuracy: 1.0000\n",
            "Epoch 51/250\n",
            "26/26 [==============================] - 1s 22ms/step - loss: 0.0701 - accuracy: 0.9888 - val_loss: 0.0375 - val_accuracy: 0.9950\n",
            "Epoch 52/250\n",
            "26/26 [==============================] - 1s 21ms/step - loss: 0.0858 - accuracy: 0.9838 - val_loss: 0.0297 - val_accuracy: 1.0000\n",
            "Epoch 53/250\n",
            "26/26 [==============================] - 1s 21ms/step - loss: 0.0609 - accuracy: 0.9950 - val_loss: 0.0310 - val_accuracy: 1.0000\n",
            "Epoch 54/250\n",
            "26/26 [==============================] - 1s 21ms/step - loss: 0.0541 - accuracy: 0.9938 - val_loss: 0.0314 - val_accuracy: 0.9900\n",
            "Epoch 55/250\n",
            "26/26 [==============================] - 1s 21ms/step - loss: 0.0663 - accuracy: 0.9900 - val_loss: 0.0313 - val_accuracy: 0.9950\n",
            "Epoch 56/250\n",
            "26/26 [==============================] - 1s 20ms/step - loss: 0.0636 - accuracy: 0.9875 - val_loss: 0.0292 - val_accuracy: 0.9950\n",
            "Epoch 57/250\n",
            "26/26 [==============================] - 1s 20ms/step - loss: 0.0555 - accuracy: 0.9900 - val_loss: 0.0309 - val_accuracy: 0.9950\n",
            "Epoch 58/250\n",
            "26/26 [==============================] - 1s 19ms/step - loss: 0.0462 - accuracy: 0.9938 - val_loss: 0.0213 - val_accuracy: 0.9950\n",
            "Epoch 59/250\n",
            "26/26 [==============================] - 1s 20ms/step - loss: 0.0596 - accuracy: 0.9913 - val_loss: 0.0238 - val_accuracy: 1.0000\n",
            "Epoch 60/250\n",
            "26/26 [==============================] - 1s 20ms/step - loss: 0.0518 - accuracy: 0.9888 - val_loss: 0.0215 - val_accuracy: 1.0000\n",
            "Epoch 61/250\n",
            "26/26 [==============================] - 1s 19ms/step - loss: 0.0602 - accuracy: 0.9813 - val_loss: 0.0314 - val_accuracy: 1.0000\n",
            "Epoch 62/250\n",
            "26/26 [==============================] - 1s 20ms/step - loss: 0.0520 - accuracy: 0.9888 - val_loss: 0.0252 - val_accuracy: 1.0000\n",
            "Epoch 63/250\n",
            "26/26 [==============================] - 1s 20ms/step - loss: 0.0524 - accuracy: 0.9913 - val_loss: 0.0317 - val_accuracy: 0.9900\n"
          ]
        }
      ],
      "source": [
        "# Train the model\n",
        "history = model.fit(X_train, y_train, epochs=250,\n",
        "                    validation_data=(X_test, y_test), callbacks=[callback])"
      ]
    },
    {
      "cell_type": "code",
      "execution_count": 324,
      "metadata": {},
      "outputs": [
        {
          "data": {
            "text/plain": [
              "<matplotlib.legend.Legend at 0x28219af8550>"
            ]
          },
          "execution_count": 324,
          "metadata": {},
          "output_type": "execute_result"
        },
        {
          "data": {
            "image/png": "[encoded data removed]",
            "text/plain": [
              "<Figure size 640x480 with 1 Axes>"
            ]
          },
          "metadata": {},
          "output_type": "display_data"
        }
      ],
      "source": [
        "import matplotlib.pyplot as plt\n",
        "plt.plot(history.history['loss'])\n",
        "plt.plot(history.history['val_loss'])\n",
        "plt.title('Loss')\n",
        "plt.xlabel('epoch')\n",
        "plt.ylabel('loss')\n",
        "plt.legend(['train', 'test'], loc='upper right')"
      ]
    },
    {
      "cell_type": "code",
      "execution_count": 325,
      "metadata": {},
      "outputs": [
        {
          "data": {
            "text/plain": [
              "<matplotlib.legend.Legend at 0x282263a6ed0>"
            ]
          },
          "execution_count": 325,
          "metadata": {},
          "output_type": "execute_result"
        },
        {
          "data": {
            "image/png": "[encoded data removed]",
            "text/plain": [
              "<Figure size 640x480 with 1 Axes>"
            ]
          },
          "metadata": {},
          "output_type": "display_data"
        }
      ],
      "source": [
        "plt.plot(history.history['accuracy'])\n",
        "plt.plot(history.history['val_accuracy'])\n",
        "plt.title('Accuracy')\n",
        "plt.xlabel('epoch')\n",
        "plt.ylabel('accuracy')\n",
        "plt.legend(['train', 'test'], loc='lower right')"
      ]
    },
    {
      "cell_type": "markdown",
      "metadata": {},
      "source": [
        "Making Predictions\n"
      ]
    },
    {
      "cell_type": "code",
      "execution_count": 326,
      "metadata": {},
      "outputs": [],
      "source": [
        "# Read data from walking.csv, creating df, apply sliding windows on data and make prediction\n",
        "df = pd.read_csv(\"../data/test/test1.csv\")\n",
        "# df['label'] = 'walking'\n",
        "\n",
        "X = df.iloc[:, :-1]\n",
        "y = df['label']"
      ]
    },
    {
      "cell_type": "code",
      "execution_count": 327,
      "metadata": {},
      "outputs": [
        {
          "data": {
            "text/plain": [
              "(16184, 10)"
            ]
          },
          "execution_count": 327,
          "metadata": {},
          "output_type": "execute_result"
        }
      ],
      "source": [
        "df.shape"
      ]
    },
    {
      "cell_type": "code",
      "execution_count": 328,
      "metadata": {},
      "outputs": [],
      "source": [
        "# applying snadradscaler\n",
        "X_scaled = scaler.transform(X)\n",
        "X_scaled_df = pd.DataFrame(X_scaled, columns=X.columns)"
      ]
    },
    {
      "cell_type": "code",
      "execution_count": 329,
      "metadata": {},
      "outputs": [
        {
          "data": {
            "text/plain": [
              "16184"
            ]
          },
          "execution_count": 329,
          "metadata": {},
          "output_type": "execute_result"
        }
      ],
      "source": [
        "df['label'].count()"
      ]
    },
    {
      "cell_type": "code",
      "execution_count": 330,
      "metadata": {},
      "outputs": [
        {
          "name": "stdout",
          "output_type": "stream",
          "text": [
            "(16184,)\n"
          ]
        }
      ],
      "source": [
        "y_test = df['label'].values\n",
        "print(y_test.shape)"
      ]
    },
    {
      "cell_type": "code",
      "execution_count": 333,
      "metadata": {},
      "outputs": [
        {
          "name": "stdout",
          "output_type": "stream",
          "text": [
            "502/502 [==============================] - 3s 7ms/step\n",
            "Predicted labels are :  ['climbing' 'climbing' 'climbing' ... 'walking' 'walking' 'walking']\n"
          ]
        }
      ],
      "source": [
        "# Create a sliding window of 10 seconds for the data\n",
        "window_size = 128\n",
        "stride = 64\n",
        "\n",
        "# Generate sequences using sliding windows\n",
        "sequences = []\n",
        "labels = []\n",
        "for i in range(len(X_scaled_df) - window_size):\n",
        "    window = X_scaled_df[i:i+window_size]\n",
        "    if len(window) == window_size:\n",
        "        sequences.append(window)\n",
        "\n",
        "X_sliding = np.array(sequences)\n",
        "\n",
        "# Make predictions\n",
        "y_pred = model.predict(X_sliding)\n",
        "y_pred = np.argmax(y_pred, axis=1)\n",
        "y_pred = label_encoder.inverse_transform(y_pred)\n",
        "print(\"Predicted labels are : \", y_pred)"
      ]
    },
    {
      "cell_type": "code",
      "execution_count": 340,
      "metadata": {},
      "outputs": [
        {
          "name": "stdout",
          "output_type": "stream",
          "text": [
            "(16184,)\n",
            "(16056,)\n"
          ]
        }
      ],
      "source": [
        "print(y_test.shape)\n",
        "print(y_pred.shape)\n",
        "\n",
        "y_test = y_test[:y_pred.shape[0]]"
      ]
    },
    {
      "cell_type": "code",
      "execution_count": 341,
      "metadata": {},
      "outputs": [
        {
          "name": "stdout",
          "output_type": "stream",
          "text": [
            "Testing accuracy is :  0.9673019431988041\n"
          ]
        }
      ],
      "source": [
        "# checking testing accuracy\n",
        "from sklearn.metrics import accuracy_score\n",
        "print(\"Testing accuracy is : \", accuracy_score(y_test, y_pred))"
      ]
    },
    {
      "cell_type": "code",
      "execution_count": null,
      "metadata": {},
      "outputs": [],
      "source": [
        "import pickle\n",
        "\n",
        "pickle.dump(model, open('../dumpFiles/CNN_model.pkl', 'wb'))\n",
        "pickle.dump(scaler, open('../dumpFiles/scaler.pkl', 'wb'))\n",
        "pickle.dump(label_encoder, open('../dumpFiles/label_encoder.pkl', 'wb'))"
      ]
    }
  ],
  "metadata": {
    "colab": {
      "provenance": [],
      "toc_visible": true
    },
    "kernelspec": {
      "display_name": "Python 3",
      "name": "python3"
    },
    "language_info": {
      "codemirror_mode": {
        "name": "ipython",
        "version": 3
      },
      "file_extension": ".py",
      "mimetype": "text/x-python",
      "name": "python",
      "nbconvert_exporter": "python",
      "pygments_lexer": "ipython3",
      "version": "3.11.5"
    }
  },
  "nbformat": 4,
  "nbformat_minor": 0
}
