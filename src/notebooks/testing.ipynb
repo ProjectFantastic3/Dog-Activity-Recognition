{
  "cells": [
    {
      "cell_type": "code",
      "execution_count": 1,
      "metadata": {
        "id": "BxqUb575jCSa"
      },
      "outputs": [],
      "source": [
        "import pandas as pd\n",
        "import numpy as np"
      ]
    },
    {
      "cell_type": "code",
      "execution_count": 2,
      "metadata": {
        "colab": {
          "base_uri": "https://localhost:8080/",
          "height": 206
        },
        "id": "rzjyclvljTqM",
        "outputId": "3ff10ec6-73a3-40a0-896a-9b730d5bd896"
      },
      "outputs": [
        {
          "data": {
            "text/html": [
              "<div>\n",
              "<style scoped>\n",
              "    .dataframe tbody tr th:only-of-type {\n",
              "        vertical-align: middle;\n",
              "    }\n",
              "\n",
              "    .dataframe tbody tr th {\n",
              "        vertical-align: top;\n",
              "    }\n",
              "\n",
              "    .dataframe thead th {\n",
              "        text-align: right;\n",
              "    }\n",
              "</style>\n",
              "<table border=\"1\" class=\"dataframe\">\n",
              "  <thead>\n",
              "    <tr style=\"text-align: right;\">\n",
              "      <th></th>\n",
              "      <th>ax</th>\n",
              "      <th>ay</th>\n",
              "      <th>az</th>\n",
              "      <th>wx</th>\n",
              "      <th>wy</th>\n",
              "      <th>wz</th>\n",
              "      <th>AngleX</th>\n",
              "      <th>AngleY</th>\n",
              "      <th>AngleZ</th>\n",
              "      <th>label</th>\n",
              "    </tr>\n",
              "  </thead>\n",
              "  <tbody>\n",
              "    <tr>\n",
              "      <th>12498</th>\n",
              "      <td>0.011</td>\n",
              "      <td>-0.150</td>\n",
              "      <td>-0.263</td>\n",
              "      <td>-70.374</td>\n",
              "      <td>-52.856</td>\n",
              "      <td>0.000</td>\n",
              "      <td>-162.279</td>\n",
              "      <td>-23.912</td>\n",
              "      <td>-120.663</td>\n",
              "      <td>climbing</td>\n",
              "    </tr>\n",
              "    <tr>\n",
              "      <th>30163</th>\n",
              "      <td>-0.451</td>\n",
              "      <td>0.337</td>\n",
              "      <td>-0.922</td>\n",
              "      <td>55.725</td>\n",
              "      <td>29.175</td>\n",
              "      <td>-29.541</td>\n",
              "      <td>-178.171</td>\n",
              "      <td>3.554</td>\n",
              "      <td>22.582</td>\n",
              "      <td>climbing</td>\n",
              "    </tr>\n",
              "    <tr>\n",
              "      <th>178259</th>\n",
              "      <td>0.091</td>\n",
              "      <td>-0.117</td>\n",
              "      <td>-0.919</td>\n",
              "      <td>-27.161</td>\n",
              "      <td>-19.287</td>\n",
              "      <td>-27.710</td>\n",
              "      <td>166.860</td>\n",
              "      <td>-14.370</td>\n",
              "      <td>-73.724</td>\n",
              "      <td>walking</td>\n",
              "    </tr>\n",
              "    <tr>\n",
              "      <th>175441</th>\n",
              "      <td>-0.512</td>\n",
              "      <td>0.140</td>\n",
              "      <td>-1.120</td>\n",
              "      <td>65.125</td>\n",
              "      <td>-9.949</td>\n",
              "      <td>-29.541</td>\n",
              "      <td>167.388</td>\n",
              "      <td>19.133</td>\n",
              "      <td>-87.869</td>\n",
              "      <td>walking</td>\n",
              "    </tr>\n",
              "    <tr>\n",
              "      <th>179844</th>\n",
              "      <td>-0.021</td>\n",
              "      <td>0.034</td>\n",
              "      <td>-1.058</td>\n",
              "      <td>-19.653</td>\n",
              "      <td>24.231</td>\n",
              "      <td>-50.964</td>\n",
              "      <td>168.860</td>\n",
              "      <td>12.590</td>\n",
              "      <td>-177.797</td>\n",
              "      <td>walking</td>\n",
              "    </tr>\n",
              "  </tbody>\n",
              "</table>\n",
              "</div>"
            ],
            "text/plain": [
              "           ax     ay     az      wx      wy      wz   AngleX  AngleY   AngleZ  \\\n",
              "12498   0.011 -0.150 -0.263 -70.374 -52.856   0.000 -162.279 -23.912 -120.663   \n",
              "30163  -0.451  0.337 -0.922  55.725  29.175 -29.541 -178.171   3.554   22.582   \n",
              "178259  0.091 -0.117 -0.919 -27.161 -19.287 -27.710  166.860 -14.370  -73.724   \n",
              "175441 -0.512  0.140 -1.120  65.125  -9.949 -29.541  167.388  19.133  -87.869   \n",
              "179844 -0.021  0.034 -1.058 -19.653  24.231 -50.964  168.860  12.590 -177.797   \n",
              "\n",
              "           label  \n",
              "12498   climbing  \n",
              "30163   climbing  \n",
              "178259   walking  \n",
              "175441   walking  \n",
              "179844   walking  "
            ]
          },
          "execution_count": 2,
          "metadata": {},
          "output_type": "execute_result"
        }
      ],
      "source": [
        "df = pd.read_csv(\"../data/train/combined_data.csv\")\n",
        "df.sample(5)"
      ]
    },
    {
      "cell_type": "code",
      "execution_count": 3,
      "metadata": {
        "colab": {
          "base_uri": "https://localhost:8080/"
        },
        "id": "_XOJjtg8jbK6",
        "outputId": "62e192f7-9def-4e87-d631-9b172babd985"
      },
      "outputs": [
        {
          "data": {
            "text/plain": [
              "(186444, 10)"
            ]
          },
          "execution_count": 3,
          "metadata": {},
          "output_type": "execute_result"
        }
      ],
      "source": [
        "df.shape"
      ]
    },
    {
      "cell_type": "code",
      "execution_count": 4,
      "metadata": {
        "colab": {
          "base_uri": "https://localhost:8080/"
        },
        "id": "QZNRIupGjdFb",
        "outputId": "68abe5f7-aa65-41ce-9c1f-9e0c76a274a7"
      },
      "outputs": [
        {
          "name": "stdout",
          "output_type": "stream",
          "text": [
            "<class 'pandas.core.frame.DataFrame'>\n",
            "RangeIndex: 186444 entries, 0 to 186443\n",
            "Data columns (total 10 columns):\n",
            " #   Column  Non-Null Count   Dtype  \n",
            "---  ------  --------------   -----  \n",
            " 0   ax      186444 non-null  float64\n",
            " 1   ay      186444 non-null  float64\n",
            " 2   az      186444 non-null  float64\n",
            " 3   wx      186444 non-null  float64\n",
            " 4   wy      186444 non-null  float64\n",
            " 5   wz      186444 non-null  float64\n",
            " 6   AngleX  186444 non-null  float64\n",
            " 7   AngleY  186444 non-null  float64\n",
            " 8   AngleZ  186444 non-null  float64\n",
            " 9   label   186444 non-null  object \n",
            "dtypes: float64(9), object(1)\n",
            "memory usage: 14.2+ MB\n"
          ]
        }
      ],
      "source": [
        "df.info()"
      ]
    },
    {
      "cell_type": "code",
      "execution_count": 5,
      "metadata": {
        "colab": {
          "base_uri": "https://localhost:8080/",
          "height": 300
        },
        "id": "F95lTIxNjeDa",
        "outputId": "86dda8b8-ecce-4fac-dc0f-a58ce9338ec5"
      },
      "outputs": [
        {
          "data": {
            "text/html": [
              "<div>\n",
              "<style scoped>\n",
              "    .dataframe tbody tr th:only-of-type {\n",
              "        vertical-align: middle;\n",
              "    }\n",
              "\n",
              "    .dataframe tbody tr th {\n",
              "        vertical-align: top;\n",
              "    }\n",
              "\n",
              "    .dataframe thead th {\n",
              "        text-align: right;\n",
              "    }\n",
              "</style>\n",
              "<table border=\"1\" class=\"dataframe\">\n",
              "  <thead>\n",
              "    <tr style=\"text-align: right;\">\n",
              "      <th></th>\n",
              "      <th>ax</th>\n",
              "      <th>ay</th>\n",
              "      <th>az</th>\n",
              "      <th>wx</th>\n",
              "      <th>wy</th>\n",
              "      <th>wz</th>\n",
              "      <th>AngleX</th>\n",
              "      <th>AngleY</th>\n",
              "      <th>AngleZ</th>\n",
              "    </tr>\n",
              "  </thead>\n",
              "  <tbody>\n",
              "    <tr>\n",
              "      <th>count</th>\n",
              "      <td>186444.000000</td>\n",
              "      <td>186444.000000</td>\n",
              "      <td>186444.000000</td>\n",
              "      <td>186444.000000</td>\n",
              "      <td>186444.000000</td>\n",
              "      <td>186444.000000</td>\n",
              "      <td>186444.000000</td>\n",
              "      <td>186444.000000</td>\n",
              "      <td>186444.000000</td>\n",
              "    </tr>\n",
              "    <tr>\n",
              "      <th>mean</th>\n",
              "      <td>-0.210908</td>\n",
              "      <td>0.094061</td>\n",
              "      <td>-0.885405</td>\n",
              "      <td>-0.787627</td>\n",
              "      <td>-0.683248</td>\n",
              "      <td>0.070303</td>\n",
              "      <td>97.142968</td>\n",
              "      <td>14.742140</td>\n",
              "      <td>-12.451345</td>\n",
              "    </tr>\n",
              "    <tr>\n",
              "      <th>std</th>\n",
              "      <td>0.545735</td>\n",
              "      <td>0.284258</td>\n",
              "      <td>0.603507</td>\n",
              "      <td>50.136492</td>\n",
              "      <td>65.569502</td>\n",
              "      <td>64.330213</td>\n",
              "      <td>138.536357</td>\n",
              "      <td>25.004095</td>\n",
              "      <td>86.811809</td>\n",
              "    </tr>\n",
              "    <tr>\n",
              "      <th>min</th>\n",
              "      <td>-13.703000</td>\n",
              "      <td>-11.896000</td>\n",
              "      <td>-15.465000</td>\n",
              "      <td>-614.380000</td>\n",
              "      <td>-686.646000</td>\n",
              "      <td>-490.479000</td>\n",
              "      <td>-179.995000</td>\n",
              "      <td>-69.911000</td>\n",
              "      <td>-179.995000</td>\n",
              "    </tr>\n",
              "    <tr>\n",
              "      <th>25%</th>\n",
              "      <td>-0.618000</td>\n",
              "      <td>-0.019000</td>\n",
              "      <td>-0.988000</td>\n",
              "      <td>-11.902000</td>\n",
              "      <td>-12.024000</td>\n",
              "      <td>-14.038000</td>\n",
              "      <td>162.070000</td>\n",
              "      <td>-4.191000</td>\n",
              "      <td>-83.491000</td>\n",
              "    </tr>\n",
              "    <tr>\n",
              "      <th>50%</th>\n",
              "      <td>-0.123000</td>\n",
              "      <td>0.129000</td>\n",
              "      <td>-0.896000</td>\n",
              "      <td>-0.366000</td>\n",
              "      <td>0.061000</td>\n",
              "      <td>0.305000</td>\n",
              "      <td>167.822000</td>\n",
              "      <td>14.777000</td>\n",
              "      <td>-16.817500</td>\n",
              "    </tr>\n",
              "    <tr>\n",
              "      <th>75%</th>\n",
              "      <td>0.133000</td>\n",
              "      <td>0.241000</td>\n",
              "      <td>-0.629000</td>\n",
              "      <td>6.226000</td>\n",
              "      <td>6.348000</td>\n",
              "      <td>10.437000</td>\n",
              "      <td>170.728000</td>\n",
              "      <td>33.530000</td>\n",
              "      <td>46.214000</td>\n",
              "    </tr>\n",
              "    <tr>\n",
              "      <th>max</th>\n",
              "      <td>9.617000</td>\n",
              "      <td>6.222000</td>\n",
              "      <td>15.990000</td>\n",
              "      <td>513.916000</td>\n",
              "      <td>873.108000</td>\n",
              "      <td>788.513000</td>\n",
              "      <td>179.995000</td>\n",
              "      <td>89.418000</td>\n",
              "      <td>179.995000</td>\n",
              "    </tr>\n",
              "  </tbody>\n",
              "</table>\n",
              "</div>"
            ],
            "text/plain": [
              "                  ax             ay             az             wx  \\\n",
              "count  186444.000000  186444.000000  186444.000000  186444.000000   \n",
              "mean       -0.210908       0.094061      -0.885405      -0.787627   \n",
              "std         0.545735       0.284258       0.603507      50.136492   \n",
              "min       -13.703000     -11.896000     -15.465000    -614.380000   \n",
              "25%        -0.618000      -0.019000      -0.988000     -11.902000   \n",
              "50%        -0.123000       0.129000      -0.896000      -0.366000   \n",
              "75%         0.133000       0.241000      -0.629000       6.226000   \n",
              "max         9.617000       6.222000      15.990000     513.916000   \n",
              "\n",
              "                  wy             wz         AngleX         AngleY  \\\n",
              "count  186444.000000  186444.000000  186444.000000  186444.000000   \n",
              "mean       -0.683248       0.070303      97.142968      14.742140   \n",
              "std        65.569502      64.330213     138.536357      25.004095   \n",
              "min      -686.646000    -490.479000    -179.995000     -69.911000   \n",
              "25%       -12.024000     -14.038000     162.070000      -4.191000   \n",
              "50%         0.061000       0.305000     167.822000      14.777000   \n",
              "75%         6.348000      10.437000     170.728000      33.530000   \n",
              "max       873.108000     788.513000     179.995000      89.418000   \n",
              "\n",
              "              AngleZ  \n",
              "count  186444.000000  \n",
              "mean      -12.451345  \n",
              "std        86.811809  \n",
              "min      -179.995000  \n",
              "25%       -83.491000  \n",
              "50%       -16.817500  \n",
              "75%        46.214000  \n",
              "max       179.995000  "
            ]
          },
          "execution_count": 5,
          "metadata": {},
          "output_type": "execute_result"
        }
      ],
      "source": [
        "df.describe()"
      ]
    },
    {
      "cell_type": "code",
      "execution_count": 6,
      "metadata": {
        "colab": {
          "base_uri": "https://localhost:8080/"
        },
        "id": "-OfV4nPVjg1a",
        "outputId": "9f898b10-6882-4192-a070-befc075389fa"
      },
      "outputs": [
        {
          "data": {
            "text/plain": [
              "ax        0\n",
              "ay        0\n",
              "az        0\n",
              "wx        0\n",
              "wy        0\n",
              "wz        0\n",
              "AngleX    0\n",
              "AngleY    0\n",
              "AngleZ    0\n",
              "label     0\n",
              "dtype: int64"
            ]
          },
          "execution_count": 6,
          "metadata": {},
          "output_type": "execute_result"
        }
      ],
      "source": [
        "df.isnull().sum()"
      ]
    },
    {
      "cell_type": "code",
      "execution_count": 7,
      "metadata": {
        "id": "okbSZqD7jiTp"
      },
      "outputs": [],
      "source": [
        "df.dropna(inplace=True)"
      ]
    },
    {
      "cell_type": "code",
      "execution_count": 8,
      "metadata": {},
      "outputs": [
        {
          "data": {
            "text/plain": [
              "label\n",
              "lying       45899\n",
              "sitting     38983\n",
              "running     36030\n",
              "walking     33069\n",
              "climbing    32463\n",
              "Name: count, dtype: int64"
            ]
          },
          "execution_count": 8,
          "metadata": {},
          "output_type": "execute_result"
        }
      ],
      "source": [
        "df[\"label\"].value_counts()"
      ]
    },
    {
      "cell_type": "code",
      "execution_count": 9,
      "metadata": {
        "id": "nkPGd5_xjj7a"
      },
      "outputs": [],
      "source": [
        "df.reset_index(drop=True, inplace=True)"
      ]
    },
    {
      "cell_type": "code",
      "execution_count": 10,
      "metadata": {
        "colab": {
          "base_uri": "https://localhost:8080/",
          "height": 989
        },
        "id": "veHhItHMoY7S",
        "outputId": "bffd430f-a971-4faa-a99f-15a232f84839"
      },
      "outputs": [
        {
          "data": {
            "text/html": [
              "<div>\n",
              "<style scoped>\n",
              "    .dataframe tbody tr th:only-of-type {\n",
              "        vertical-align: middle;\n",
              "    }\n",
              "\n",
              "    .dataframe tbody tr th {\n",
              "        vertical-align: top;\n",
              "    }\n",
              "\n",
              "    .dataframe thead th {\n",
              "        text-align: right;\n",
              "    }\n",
              "</style>\n",
              "<table border=\"1\" class=\"dataframe\">\n",
              "  <thead>\n",
              "    <tr style=\"text-align: right;\">\n",
              "      <th></th>\n",
              "      <th>ax</th>\n",
              "      <th>ay</th>\n",
              "      <th>az</th>\n",
              "      <th>wx</th>\n",
              "      <th>wy</th>\n",
              "      <th>wz</th>\n",
              "      <th>AngleX</th>\n",
              "      <th>AngleY</th>\n",
              "      <th>AngleZ</th>\n",
              "      <th>label</th>\n",
              "    </tr>\n",
              "  </thead>\n",
              "  <tbody>\n",
              "    <tr>\n",
              "      <th>69413</th>\n",
              "      <td>0.135</td>\n",
              "      <td>0.283</td>\n",
              "      <td>-0.956</td>\n",
              "      <td>-0.244</td>\n",
              "      <td>0.244</td>\n",
              "      <td>0.427</td>\n",
              "      <td>163.076</td>\n",
              "      <td>-8.229</td>\n",
              "      <td>-110.094</td>\n",
              "      <td>lying</td>\n",
              "    </tr>\n",
              "    <tr>\n",
              "      <th>83942</th>\n",
              "      <td>-0.532</td>\n",
              "      <td>0.858</td>\n",
              "      <td>-1.033</td>\n",
              "      <td>29.297</td>\n",
              "      <td>-103.577</td>\n",
              "      <td>115.540</td>\n",
              "      <td>175.259</td>\n",
              "      <td>15.040</td>\n",
              "      <td>9.959</td>\n",
              "      <td>running</td>\n",
              "    </tr>\n",
              "    <tr>\n",
              "      <th>167440</th>\n",
              "      <td>-0.579</td>\n",
              "      <td>0.106</td>\n",
              "      <td>-1.182</td>\n",
              "      <td>-25.696</td>\n",
              "      <td>74.402</td>\n",
              "      <td>-2.686</td>\n",
              "      <td>167.899</td>\n",
              "      <td>19.698</td>\n",
              "      <td>-28.746</td>\n",
              "      <td>walking</td>\n",
              "    </tr>\n",
              "    <tr>\n",
              "      <th>86398</th>\n",
              "      <td>0.602</td>\n",
              "      <td>0.029</td>\n",
              "      <td>-1.403</td>\n",
              "      <td>-32.715</td>\n",
              "      <td>-97.412</td>\n",
              "      <td>32.043</td>\n",
              "      <td>169.761</td>\n",
              "      <td>17.018</td>\n",
              "      <td>-20.550</td>\n",
              "      <td>running</td>\n",
              "    </tr>\n",
              "    <tr>\n",
              "      <th>182417</th>\n",
              "      <td>0.122</td>\n",
              "      <td>0.303</td>\n",
              "      <td>-0.908</td>\n",
              "      <td>29.907</td>\n",
              "      <td>15.015</td>\n",
              "      <td>8.789</td>\n",
              "      <td>-179.044</td>\n",
              "      <td>-3.219</td>\n",
              "      <td>111.786</td>\n",
              "      <td>walking</td>\n",
              "    </tr>\n",
              "  </tbody>\n",
              "</table>\n",
              "</div>"
            ],
            "text/plain": [
              "           ax     ay     az      wx       wy       wz   AngleX  AngleY  \\\n",
              "69413   0.135  0.283 -0.956  -0.244    0.244    0.427  163.076  -8.229   \n",
              "83942  -0.532  0.858 -1.033  29.297 -103.577  115.540  175.259  15.040   \n",
              "167440 -0.579  0.106 -1.182 -25.696   74.402   -2.686  167.899  19.698   \n",
              "86398   0.602  0.029 -1.403 -32.715  -97.412   32.043  169.761  17.018   \n",
              "182417  0.122  0.303 -0.908  29.907   15.015    8.789 -179.044  -3.219   \n",
              "\n",
              "         AngleZ    label  \n",
              "69413  -110.094    lying  \n",
              "83942     9.959  running  \n",
              "167440  -28.746  walking  \n",
              "86398   -20.550  running  \n",
              "182417  111.786  walking  "
            ]
          },
          "execution_count": 10,
          "metadata": {},
          "output_type": "execute_result"
        }
      ],
      "source": [
        "df.sample(5)"
      ]
    },
    {
      "cell_type": "code",
      "execution_count": 11,
      "metadata": {
        "id": "vwAdTfm6qIzM"
      },
      "outputs": [],
      "source": [
        "X = df.iloc[:, :-1]\n",
        "y = df['label']"
      ]
    },
    {
      "cell_type": "code",
      "execution_count": 12,
      "metadata": {},
      "outputs": [
        {
          "data": {
            "text/plain": [
              "Index(['ax', 'ay', 'az', 'wx', 'wy', 'wz', 'AngleX', 'AngleY', 'AngleZ'], dtype='object')"
            ]
          },
          "execution_count": 12,
          "metadata": {},
          "output_type": "execute_result"
        }
      ],
      "source": [
        "X.columns"
      ]
    },
    {
      "cell_type": "code",
      "execution_count": 13,
      "metadata": {},
      "outputs": [
        {
          "data": {
            "text/plain": [
              "(186444, 9)"
            ]
          },
          "execution_count": 13,
          "metadata": {},
          "output_type": "execute_result"
        }
      ],
      "source": [
        "X.shape"
      ]
    },
    {
      "cell_type": "code",
      "execution_count": 14,
      "metadata": {
        "id": "qqXnRhTalTda"
      },
      "outputs": [
        {
          "data": {
            "text/html": [
              "<div>\n",
              "<style scoped>\n",
              "    .dataframe tbody tr th:only-of-type {\n",
              "        vertical-align: middle;\n",
              "    }\n",
              "\n",
              "    .dataframe tbody tr th {\n",
              "        vertical-align: top;\n",
              "    }\n",
              "\n",
              "    .dataframe thead th {\n",
              "        text-align: right;\n",
              "    }\n",
              "</style>\n",
              "<table border=\"1\" class=\"dataframe\">\n",
              "  <thead>\n",
              "    <tr style=\"text-align: right;\">\n",
              "      <th></th>\n",
              "      <th>ax</th>\n",
              "      <th>ay</th>\n",
              "      <th>az</th>\n",
              "      <th>wx</th>\n",
              "      <th>wy</th>\n",
              "      <th>wz</th>\n",
              "      <th>AngleX</th>\n",
              "      <th>AngleY</th>\n",
              "      <th>AngleZ</th>\n",
              "    </tr>\n",
              "  </thead>\n",
              "  <tbody>\n",
              "    <tr>\n",
              "      <th>0</th>\n",
              "      <td>-0.557216</td>\n",
              "      <td>-0.246471</td>\n",
              "      <td>0.027184</td>\n",
              "      <td>0.425971</td>\n",
              "      <td>-0.061260</td>\n",
              "      <td>0.436292</td>\n",
              "      <td>0.566091</td>\n",
              "      <td>0.548626</td>\n",
              "      <td>1.250206</td>\n",
              "    </tr>\n",
              "    <tr>\n",
              "      <th>1</th>\n",
              "      <td>-0.537060</td>\n",
              "      <td>-0.246471</td>\n",
              "      <td>0.027184</td>\n",
              "      <td>0.425971</td>\n",
              "      <td>-0.061260</td>\n",
              "      <td>0.436292</td>\n",
              "      <td>0.566445</td>\n",
              "      <td>0.549746</td>\n",
              "      <td>1.246474</td>\n",
              "    </tr>\n",
              "    <tr>\n",
              "      <th>2</th>\n",
              "      <td>-0.537060</td>\n",
              "      <td>-0.246471</td>\n",
              "      <td>0.017242</td>\n",
              "      <td>0.472225</td>\n",
              "      <td>-0.072423</td>\n",
              "      <td>0.404037</td>\n",
              "      <td>0.566922</td>\n",
              "      <td>0.551266</td>\n",
              "      <td>1.242868</td>\n",
              "    </tr>\n",
              "    <tr>\n",
              "      <th>3</th>\n",
              "      <td>-0.516903</td>\n",
              "      <td>-0.246471</td>\n",
              "      <td>0.017242</td>\n",
              "      <td>0.472225</td>\n",
              "      <td>-0.072423</td>\n",
              "      <td>0.404037</td>\n",
              "      <td>0.567557</td>\n",
              "      <td>0.552785</td>\n",
              "      <td>1.239447</td>\n",
              "    </tr>\n",
              "    <tr>\n",
              "      <th>4</th>\n",
              "      <td>-0.516903</td>\n",
              "      <td>-0.162041</td>\n",
              "      <td>0.010614</td>\n",
              "      <td>0.500228</td>\n",
              "      <td>-0.061260</td>\n",
              "      <td>0.355646</td>\n",
              "      <td>0.568315</td>\n",
              "      <td>0.554345</td>\n",
              "      <td>1.236152</td>\n",
              "    </tr>\n",
              "  </tbody>\n",
              "</table>\n",
              "</div>"
            ],
            "text/plain": [
              "         ax        ay        az        wx        wy        wz    AngleX  \\\n",
              "0 -0.557216 -0.246471  0.027184  0.425971 -0.061260  0.436292  0.566091   \n",
              "1 -0.537060 -0.246471  0.027184  0.425971 -0.061260  0.436292  0.566445   \n",
              "2 -0.537060 -0.246471  0.017242  0.472225 -0.072423  0.404037  0.566922   \n",
              "3 -0.516903 -0.246471  0.017242  0.472225 -0.072423  0.404037  0.567557   \n",
              "4 -0.516903 -0.162041  0.010614  0.500228 -0.061260  0.355646  0.568315   \n",
              "\n",
              "     AngleY    AngleZ  \n",
              "0  0.548626  1.250206  \n",
              "1  0.549746  1.246474  \n",
              "2  0.551266  1.242868  \n",
              "3  0.552785  1.239447  \n",
              "4  0.554345  1.236152  "
            ]
          },
          "execution_count": 14,
          "metadata": {},
          "output_type": "execute_result"
        }
      ],
      "source": [
        "from sklearn.preprocessing import StandardScaler\n",
        "scaler = StandardScaler()\n",
        "X_scaled = scaler.fit_transform(X)\n",
        "\n",
        "X_scaled_df = pd.DataFrame(X_scaled, columns=X.columns)\n",
        "X_scaled_df.head()"
      ]
    },
    {
      "cell_type": "code",
      "execution_count": 15,
      "metadata": {
        "id": "qV0ryayprDnr"
      },
      "outputs": [],
      "source": [
        "import tensorflow as tf\n",
        "from tensorflow import keras\n",
        "from keras import Sequential\n",
        "from sklearn.model_selection import train_test_split\n",
        "from keras.layers import Dense, Conv1D, MaxPooling1D, Flatten, BatchNormalization, Dropout, Dense\n",
        "from keras.utils import to_categorical\n",
        "from sklearn.preprocessing import LabelEncoder"
      ]
    },
    {
      "cell_type": "code",
      "execution_count": 16,
      "metadata": {},
      "outputs": [
        {
          "data": {
            "text/plain": [
              "Index(['ax', 'ay', 'az', 'wx', 'wy', 'wz', 'AngleX', 'AngleY', 'AngleZ',\n",
              "       'label'],\n",
              "      dtype='object')"
            ]
          },
          "execution_count": 16,
          "metadata": {},
          "output_type": "execute_result"
        }
      ],
      "source": [
        "df.columns"
      ]
    },
    {
      "cell_type": "code",
      "execution_count": 17,
      "metadata": {},
      "outputs": [],
      "source": [
        "# Extracting features and labels\n",
        "X = X_scaled_df[['ax', 'ay', 'az', 'wx', 'wy',\n",
        "                 'wz', 'AngleX', 'AngleY', 'AngleZ']].values\n",
        "y = df['label'].values\n",
        "\n",
        "# Encoding labels\n",
        "label_encoder = LabelEncoder()\n",
        "y_encoded = label_encoder.fit_transform(y)\n",
        "num_classes = len(label_encoder.classes_)\n",
        "y_categorical = to_categorical(y_encoded, num_classes=num_classes)\n",
        "\n",
        "# Sliding window parameters\n",
        "window_size = 128  # Adjust as needed\n",
        "stride = 64  # Adjust as needed\n",
        "\n",
        "# Generate sequences using sliding windows\n",
        "sequences = []\n",
        "labels = []\n",
        "\n",
        "for i in range(0, len(X) - window_size + 1, stride):\n",
        "    window = X[i:i+window_size]\n",
        "    label = y_categorical[i+window_size-1]\n",
        "    sequences.append(window)\n",
        "    labels.append(label)\n",
        "\n",
        "X_sliding = np.array(sequences)\n",
        "y_sliding = np.array(labels)\n",
        "\n",
        "X_train, X_test, y_train, y_test = train_test_split(\n",
        "    X_sliding, y_sliding, test_size=0.2, random_state=42)"
      ]
    },
    {
      "cell_type": "code",
      "execution_count": 20,
      "metadata": {},
      "outputs": [],
      "source": [
        "# Build the CNN model\n",
        "model = Sequential()\n",
        "\n",
        "model.add(Conv1D(32, kernel_size=3, activation='relu',\n",
        "          input_shape=(window_size, X_scaled.shape[1])))\n",
        "model.add(MaxPooling1D(pool_size=2, padding=\"valid\"))\n",
        "\n",
        "model.add(Conv1D(64, kernel_size=3, activation='relu'))\n",
        "model.add(MaxPooling1D(pool_size=2, padding=\"valid\"))\n",
        "\n",
        "model.add(Conv1D(128, kernel_size=3, activation='relu'))\n",
        "model.add(MaxPooling1D(pool_size=2, padding=\"valid\"))\n",
        "\n",
        "\n",
        "model.add(Flatten())\n",
        "model.add(Dense(128, activation='relu'))\n",
        "model.add(Dropout(0.1))\n",
        "model.add(Dense(64, activation='relu'))\n",
        "model.add(Dropout(0.1))\n",
        "\n",
        "model.add(Dense(num_classes, activation='softmax'))"
      ]
    },
    {
      "cell_type": "code",
      "execution_count": 21,
      "metadata": {},
      "outputs": [],
      "source": [
        "# Compile the model\n",
        "model.compile(optimizer='adam', loss='categorical_crossentropy',\n",
        "              metrics=['accuracy'])"
      ]
    },
    {
      "cell_type": "code",
      "execution_count": 27,
      "metadata": {},
      "outputs": [
        {
          "name": "stdout",
          "output_type": "stream",
          "text": [
            "Epoch 1/40\n",
            "73/73 [==============================] - 1s 12ms/step - loss: 0.0933 - accuracy: 0.9712 - val_loss: 0.2394 - val_accuracy: 0.9245\n",
            "Epoch 2/40\n",
            "73/73 [==============================] - 1s 11ms/step - loss: 0.0133 - accuracy: 0.9979 - val_loss: 0.4439 - val_accuracy: 0.9365\n",
            "Epoch 3/40\n",
            "73/73 [==============================] - 1s 8ms/step - loss: 0.0130 - accuracy: 0.9966 - val_loss: 0.2681 - val_accuracy: 0.9468\n",
            "Epoch 4/40\n",
            "73/73 [==============================] - 1s 9ms/step - loss: 0.0069 - accuracy: 0.9991 - val_loss: 0.3998 - val_accuracy: 0.9417\n",
            "Epoch 5/40\n",
            "73/73 [==============================] - 1s 8ms/step - loss: 0.0025 - accuracy: 0.9991 - val_loss: 0.2950 - val_accuracy: 0.9503\n",
            "Epoch 6/40\n",
            "73/73 [==============================] - 1s 8ms/step - loss: 0.0023 - accuracy: 0.9991 - val_loss: 0.3272 - val_accuracy: 0.9451\n",
            "Epoch 7/40\n",
            "73/73 [==============================] - 1s 8ms/step - loss: 0.0013 - accuracy: 0.9996 - val_loss: 0.3117 - val_accuracy: 0.9503\n",
            "Epoch 8/40\n",
            "73/73 [==============================] - 1s 8ms/step - loss: 5.7622e-04 - accuracy: 1.0000 - val_loss: 0.3381 - val_accuracy: 0.9520\n",
            "Epoch 9/40\n",
            "73/73 [==============================] - 1s 8ms/step - loss: 2.4528e-04 - accuracy: 1.0000 - val_loss: 0.3569 - val_accuracy: 0.9520\n",
            "Epoch 10/40\n",
            "73/73 [==============================] - 1s 8ms/step - loss: 2.1884e-04 - accuracy: 1.0000 - val_loss: 0.3650 - val_accuracy: 0.9520\n",
            "Epoch 11/40\n",
            "73/73 [==============================] - 1s 8ms/step - loss: 1.1222e-04 - accuracy: 1.0000 - val_loss: 0.3755 - val_accuracy: 0.9537\n",
            "Epoch 12/40\n",
            "73/73 [==============================] - 1s 8ms/step - loss: 5.2337e-04 - accuracy: 1.0000 - val_loss: 0.3578 - val_accuracy: 0.9554\n",
            "Epoch 13/40\n",
            "73/73 [==============================] - 1s 8ms/step - loss: 8.8487e-05 - accuracy: 1.0000 - val_loss: 0.3679 - val_accuracy: 0.9537\n",
            "Epoch 14/40\n",
            "73/73 [==============================] - 1s 8ms/step - loss: 1.2902e-04 - accuracy: 1.0000 - val_loss: 0.3749 - val_accuracy: 0.9485\n",
            "Epoch 15/40\n",
            "73/73 [==============================] - 1s 8ms/step - loss: 5.3949e-05 - accuracy: 1.0000 - val_loss: 0.3820 - val_accuracy: 0.9485\n",
            "Epoch 16/40\n",
            "73/73 [==============================] - 1s 8ms/step - loss: 4.5428e-05 - accuracy: 1.0000 - val_loss: 0.3907 - val_accuracy: 0.9485\n",
            "Epoch 17/40\n",
            "73/73 [==============================] - 1s 8ms/step - loss: 2.1824e-05 - accuracy: 1.0000 - val_loss: 0.3941 - val_accuracy: 0.9485\n",
            "Epoch 18/40\n",
            "73/73 [==============================] - 1s 8ms/step - loss: 3.6195e-05 - accuracy: 1.0000 - val_loss: 0.4071 - val_accuracy: 0.9503\n",
            "Epoch 19/40\n",
            "73/73 [==============================] - 1s 8ms/step - loss: 4.1304e-05 - accuracy: 1.0000 - val_loss: 0.4171 - val_accuracy: 0.9485\n",
            "Epoch 20/40\n",
            "73/73 [==============================] - 1s 8ms/step - loss: 3.0664e-05 - accuracy: 1.0000 - val_loss: 0.4342 - val_accuracy: 0.9451\n",
            "Epoch 21/40\n",
            "73/73 [==============================] - 1s 9ms/step - loss: 4.4253e-05 - accuracy: 1.0000 - val_loss: 0.4338 - val_accuracy: 0.9468\n",
            "Epoch 22/40\n",
            "73/73 [==============================] - 1s 8ms/step - loss: 0.0082 - accuracy: 0.9979 - val_loss: 0.8491 - val_accuracy: 0.9177\n",
            "Epoch 23/40\n",
            "73/73 [==============================] - 1s 8ms/step - loss: 0.0792 - accuracy: 0.9820 - val_loss: 0.3106 - val_accuracy: 0.9331\n",
            "Epoch 24/40\n",
            "73/73 [==============================] - 1s 9ms/step - loss: 0.0190 - accuracy: 0.9953 - val_loss: 0.4165 - val_accuracy: 0.9331\n",
            "Epoch 25/40\n",
            "73/73 [==============================] - 1s 8ms/step - loss: 0.0065 - accuracy: 0.9979 - val_loss: 0.3923 - val_accuracy: 0.9400\n",
            "Epoch 26/40\n",
            "73/73 [==============================] - 1s 8ms/step - loss: 0.0012 - accuracy: 0.9996 - val_loss: 0.3886 - val_accuracy: 0.9417\n",
            "Epoch 27/40\n",
            "73/73 [==============================] - 1s 8ms/step - loss: 5.8024e-04 - accuracy: 1.0000 - val_loss: 0.3808 - val_accuracy: 0.9400\n",
            "Epoch 28/40\n",
            "73/73 [==============================] - 1s 8ms/step - loss: 1.5784e-04 - accuracy: 1.0000 - val_loss: 0.3964 - val_accuracy: 0.9400\n",
            "Epoch 29/40\n",
            "73/73 [==============================] - 1s 8ms/step - loss: 9.5450e-05 - accuracy: 1.0000 - val_loss: 0.4082 - val_accuracy: 0.9400\n",
            "Epoch 30/40\n",
            "73/73 [==============================] - 1s 8ms/step - loss: 9.2166e-05 - accuracy: 1.0000 - val_loss: 0.4152 - val_accuracy: 0.9400\n",
            "Epoch 31/40\n",
            "73/73 [==============================] - 1s 9ms/step - loss: 1.1153e-04 - accuracy: 1.0000 - val_loss: 0.4214 - val_accuracy: 0.9400\n",
            "Epoch 32/40\n",
            "73/73 [==============================] - 1s 8ms/step - loss: 4.3946e-05 - accuracy: 1.0000 - val_loss: 0.4295 - val_accuracy: 0.9400\n",
            "Epoch 33/40\n",
            "73/73 [==============================] - 1s 9ms/step - loss: 7.8866e-05 - accuracy: 1.0000 - val_loss: 0.4322 - val_accuracy: 0.9434\n",
            "Epoch 34/40\n",
            "73/73 [==============================] - 1s 8ms/step - loss: 3.8099e-05 - accuracy: 1.0000 - val_loss: 0.4431 - val_accuracy: 0.9434\n",
            "Epoch 35/40\n",
            "73/73 [==============================] - 1s 8ms/step - loss: 5.7720e-05 - accuracy: 1.0000 - val_loss: 0.4467 - val_accuracy: 0.9434\n",
            "Epoch 36/40\n",
            "73/73 [==============================] - 1s 8ms/step - loss: 5.5253e-05 - accuracy: 1.0000 - val_loss: 0.4524 - val_accuracy: 0.9417\n",
            "Epoch 37/40\n",
            "73/73 [==============================] - 1s 8ms/step - loss: 2.8100e-05 - accuracy: 1.0000 - val_loss: 0.4308 - val_accuracy: 0.9451\n",
            "Epoch 38/40\n",
            "73/73 [==============================] - 1s 8ms/step - loss: 2.2505e-05 - accuracy: 1.0000 - val_loss: 0.4347 - val_accuracy: 0.9451\n",
            "Epoch 39/40\n",
            "73/73 [==============================] - 1s 9ms/step - loss: 3.0389e-05 - accuracy: 1.0000 - val_loss: 0.4435 - val_accuracy: 0.9451\n",
            "Epoch 40/40\n",
            "73/73 [==============================] - 1s 8ms/step - loss: 2.6671e-05 - accuracy: 1.0000 - val_loss: 0.4506 - val_accuracy: 0.9451\n"
          ]
        }
      ],
      "source": [
        "# Train the model\n",
        "history = model.fit(X_train, y_train, epochs=40,\n",
        "                    validation_data=(X_test, y_test))"
      ]
    },
    {
      "cell_type": "code",
      "execution_count": 28,
      "metadata": {},
      "outputs": [
        {
          "data": {
            "text/plain": [
              "<matplotlib.legend.Legend at 0x1e1c51a1310>"
            ]
          },
          "execution_count": 28,
          "metadata": {},
          "output_type": "execute_result"
        },
        {
          "data": {
            "image/png": "[encoded data removed]",
            "text/plain": [
              "<Figure size 640x480 with 1 Axes>"
            ]
          },
          "metadata": {},
          "output_type": "display_data"
        }
      ],
      "source": [
        "import matplotlib.pyplot as plt\n",
        "plt.plot(history.history['loss'])\n",
        "plt.plot(history.history['val_loss'])\n",
        "plt.title('Loss')\n",
        "plt.xlabel('epoch')\n",
        "plt.ylabel('loss')\n",
        "plt.legend(['train', 'test'], loc='upper right')"
      ]
    },
    {
      "cell_type": "code",
      "execution_count": 29,
      "metadata": {},
      "outputs": [
        {
          "data": {
            "text/plain": [
              "<matplotlib.legend.Legend at 0x1e1c3dde5d0>"
            ]
          },
          "execution_count": 29,
          "metadata": {},
          "output_type": "execute_result"
        },
        {
          "data": {
            "image/png": "[encoded data removed]",
            "text/plain": [
              "<Figure size 640x480 with 1 Axes>"
            ]
          },
          "metadata": {},
          "output_type": "display_data"
        }
      ],
      "source": [
        "plt.plot(history.history['accuracy'])\n",
        "plt.plot(history.history['val_accuracy'])\n",
        "plt.title('Accuracy')\n",
        "plt.xlabel('epoch')\n",
        "plt.ylabel('accuracy')\n",
        "plt.legend(['train', 'test'], loc='lower right')"
      ]
    },
    {
      "cell_type": "markdown",
      "metadata": {},
      "source": [
        "Making Predictions\n"
      ]
    },
    {
      "cell_type": "code",
      "execution_count": 30,
      "metadata": {},
      "outputs": [
        {
          "data": {
            "text/html": [
              "<div>\n",
              "<style scoped>\n",
              "    .dataframe tbody tr th:only-of-type {\n",
              "        vertical-align: middle;\n",
              "    }\n",
              "\n",
              "    .dataframe tbody tr th {\n",
              "        vertical-align: top;\n",
              "    }\n",
              "\n",
              "    .dataframe thead th {\n",
              "        text-align: right;\n",
              "    }\n",
              "</style>\n",
              "<table border=\"1\" class=\"dataframe\">\n",
              "  <thead>\n",
              "    <tr style=\"text-align: right;\">\n",
              "      <th></th>\n",
              "      <th>ax</th>\n",
              "      <th>ay</th>\n",
              "      <th>az</th>\n",
              "      <th>wx</th>\n",
              "      <th>wy</th>\n",
              "      <th>wz</th>\n",
              "      <th>AngleX</th>\n",
              "      <th>AngleY</th>\n",
              "      <th>AngleZ</th>\n",
              "    </tr>\n",
              "  </thead>\n",
              "  <tbody>\n",
              "    <tr>\n",
              "      <th>0</th>\n",
              "      <td>0.2329</td>\n",
              "      <td>-0.8633</td>\n",
              "      <td>-0.0405</td>\n",
              "      <td>327.9419</td>\n",
              "      <td>89.4775</td>\n",
              "      <td>-147.8882</td>\n",
              "      <td>-67.7087</td>\n",
              "      <td>7.8992</td>\n",
              "      <td>143.8495</td>\n",
              "    </tr>\n",
              "    <tr>\n",
              "      <th>1</th>\n",
              "      <td>0.2329</td>\n",
              "      <td>-0.8633</td>\n",
              "      <td>-0.0405</td>\n",
              "      <td>289.2456</td>\n",
              "      <td>109.1919</td>\n",
              "      <td>-123.8403</td>\n",
              "      <td>-65.1874</td>\n",
              "      <td>7.2015</td>\n",
              "      <td>142.3444</td>\n",
              "    </tr>\n",
              "    <tr>\n",
              "      <th>2</th>\n",
              "      <td>0.2266</td>\n",
              "      <td>-0.7773</td>\n",
              "      <td>-0.0244</td>\n",
              "      <td>289.2456</td>\n",
              "      <td>109.1919</td>\n",
              "      <td>-123.8403</td>\n",
              "      <td>-62.6660</td>\n",
              "      <td>6.5698</td>\n",
              "      <td>140.8173</td>\n",
              "    </tr>\n",
              "    <tr>\n",
              "      <th>3</th>\n",
              "      <td>0.2266</td>\n",
              "      <td>-0.7773</td>\n",
              "      <td>-0.0244</td>\n",
              "      <td>258.6670</td>\n",
              "      <td>95.0928</td>\n",
              "      <td>-86.7920</td>\n",
              "      <td>-60.4138</td>\n",
              "      <td>6.2457</td>\n",
              "      <td>139.5648</td>\n",
              "    </tr>\n",
              "    <tr>\n",
              "      <th>4</th>\n",
              "      <td>0.1680</td>\n",
              "      <td>-0.7354</td>\n",
              "      <td>0.0093</td>\n",
              "      <td>258.6670</td>\n",
              "      <td>95.0928</td>\n",
              "      <td>-86.7920</td>\n",
              "      <td>-58.1726</td>\n",
              "      <td>5.9711</td>\n",
              "      <td>138.3069</td>\n",
              "    </tr>\n",
              "    <tr>\n",
              "      <th>...</th>\n",
              "      <td>...</td>\n",
              "      <td>...</td>\n",
              "      <td>...</td>\n",
              "      <td>...</td>\n",
              "      <td>...</td>\n",
              "      <td>...</td>\n",
              "      <td>...</td>\n",
              "      <td>...</td>\n",
              "      <td>...</td>\n",
              "    </tr>\n",
              "    <tr>\n",
              "      <th>29098</th>\n",
              "      <td>0.8931</td>\n",
              "      <td>0.3052</td>\n",
              "      <td>-0.4683</td>\n",
              "      <td>33.0200</td>\n",
              "      <td>6.6528</td>\n",
              "      <td>3.9673</td>\n",
              "      <td>142.7344</td>\n",
              "      <td>-59.4690</td>\n",
              "      <td>-36.7877</td>\n",
              "    </tr>\n",
              "    <tr>\n",
              "      <th>29099</th>\n",
              "      <td>0.9517</td>\n",
              "      <td>0.3804</td>\n",
              "      <td>-0.4844</td>\n",
              "      <td>33.0200</td>\n",
              "      <td>6.6528</td>\n",
              "      <td>3.9673</td>\n",
              "      <td>143.0200</td>\n",
              "      <td>-59.5514</td>\n",
              "      <td>-36.7657</td>\n",
              "    </tr>\n",
              "    <tr>\n",
              "      <th>29100</th>\n",
              "      <td>0.9517</td>\n",
              "      <td>0.3804</td>\n",
              "      <td>-0.4844</td>\n",
              "      <td>30.5786</td>\n",
              "      <td>1.3428</td>\n",
              "      <td>-1.3428</td>\n",
              "      <td>143.2672</td>\n",
              "      <td>-59.5569</td>\n",
              "      <td>-36.7218</td>\n",
              "    </tr>\n",
              "    <tr>\n",
              "      <th>29101</th>\n",
              "      <td>0.8926</td>\n",
              "      <td>0.3428</td>\n",
              "      <td>-0.4302</td>\n",
              "      <td>30.5786</td>\n",
              "      <td>1.3428</td>\n",
              "      <td>-1.3428</td>\n",
              "      <td>143.5144</td>\n",
              "      <td>-59.5569</td>\n",
              "      <td>-36.6779</td>\n",
              "    </tr>\n",
              "    <tr>\n",
              "      <th>29102</th>\n",
              "      <td>0.8926</td>\n",
              "      <td>0.3428</td>\n",
              "      <td>-0.4302</td>\n",
              "      <td>-9.2773</td>\n",
              "      <td>4.8218</td>\n",
              "      <td>3.3569</td>\n",
              "      <td>143.3881</td>\n",
              "      <td>-59.6173</td>\n",
              "      <td>-36.6724</td>\n",
              "    </tr>\n",
              "  </tbody>\n",
              "</table>\n",
              "<p>29103 rows × 9 columns</p>\n",
              "</div>"
            ],
            "text/plain": [
              "           ax      ay      az        wx        wy        wz    AngleX  \\\n",
              "0      0.2329 -0.8633 -0.0405  327.9419   89.4775 -147.8882  -67.7087   \n",
              "1      0.2329 -0.8633 -0.0405  289.2456  109.1919 -123.8403  -65.1874   \n",
              "2      0.2266 -0.7773 -0.0244  289.2456  109.1919 -123.8403  -62.6660   \n",
              "3      0.2266 -0.7773 -0.0244  258.6670   95.0928  -86.7920  -60.4138   \n",
              "4      0.1680 -0.7354  0.0093  258.6670   95.0928  -86.7920  -58.1726   \n",
              "...       ...     ...     ...       ...       ...       ...       ...   \n",
              "29098  0.8931  0.3052 -0.4683   33.0200    6.6528    3.9673  142.7344   \n",
              "29099  0.9517  0.3804 -0.4844   33.0200    6.6528    3.9673  143.0200   \n",
              "29100  0.9517  0.3804 -0.4844   30.5786    1.3428   -1.3428  143.2672   \n",
              "29101  0.8926  0.3428 -0.4302   30.5786    1.3428   -1.3428  143.5144   \n",
              "29102  0.8926  0.3428 -0.4302   -9.2773    4.8218    3.3569  143.3881   \n",
              "\n",
              "        AngleY    AngleZ  \n",
              "0       7.8992  143.8495  \n",
              "1       7.2015  142.3444  \n",
              "2       6.5698  140.8173  \n",
              "3       6.2457  139.5648  \n",
              "4       5.9711  138.3069  \n",
              "...        ...       ...  \n",
              "29098 -59.4690  -36.7877  \n",
              "29099 -59.5514  -36.7657  \n",
              "29100 -59.5569  -36.7218  \n",
              "29101 -59.5569  -36.6779  \n",
              "29102 -59.6173  -36.6724  \n",
              "\n",
              "[29103 rows x 9 columns]"
            ]
          },
          "execution_count": 30,
          "metadata": {},
          "output_type": "execute_result"
        }
      ],
      "source": [
        "# Read data from walking.csv, creating df, apply sliding windows on data and make prediction\n",
        "df = pd.read_csv(\"../data/test/walking.csv\")\n",
        "df"
      ]
    },
    {
      "cell_type": "code",
      "execution_count": 31,
      "metadata": {},
      "outputs": [],
      "source": [
        "# applying snadradscaler\n",
        "X_scaled = scaler.transform(df)\n",
        "X_scaled_df = pd.DataFrame(X_scaled, columns=df.columns)"
      ]
    },
    {
      "cell_type": "code",
      "execution_count": 32,
      "metadata": {},
      "outputs": [
        {
          "name": "stdout",
          "output_type": "stream",
          "text": [
            "906/906 [==============================] - 3s 3ms/step\n",
            "Predicted labels are :  ['climbing' 'climbing' 'climbing' ... 'sitting' 'sitting' 'sitting']\n"
          ]
        }
      ],
      "source": [
        "# Create a sliding window of 10 seconds for the data\n",
        "window_size = 128\n",
        "stride = 64\n",
        "\n",
        "# Generate sequences using sliding windows\n",
        "sequences = []\n",
        "labels = []\n",
        "for i in range(len(X_scaled_df) - window_size):\n",
        "    window = X_scaled_df[i:i+window_size]\n",
        "    sequences.append(window)\n",
        "\n",
        "X_sliding = np.array(sequences)\n",
        "\n",
        "# Make predictions\n",
        "y_pred = model.predict(X_sliding)\n",
        "y_pred = np.argmax(y_pred, axis=1)\n",
        "y_pred = label_encoder.inverse_transform(y_pred)\n",
        "print(\"Predicted labels are : \", y_pred)"
      ]
    },
    {
      "cell_type": "code",
      "execution_count": 28,
      "metadata": {},
      "outputs": [],
      "source": [
        "import pickle\n",
        "\n",
        "pickle.dump(model, open('../dumpFiles/CNN_model.pkl', 'wb'))\n",
        "pickle.dump(scaler, open('../dumpFiles/scaler.pkl', 'wb'))\n",
        "pickle.dump(label_encoder, open('../dumpFiles/label_encoder.pkl', 'wb'))"
      ]
    },
    {
      "cell_type": "code",
      "execution_count": null,
      "metadata": {},
      "outputs": [],
      "source": []
    }
  ],
  "metadata": {
    "colab": {
      "provenance": [],
      "toc_visible": true
    },
    "kernelspec": {
      "display_name": "Python 3",
      "name": "python3"
    },
    "language_info": {
      "codemirror_mode": {
        "name": "ipython",
        "version": 3
      },
      "file_extension": ".py",
      "mimetype": "text/x-python",
      "name": "python",
      "nbconvert_exporter": "python",
      "pygments_lexer": "ipython3",
      "version": "3.11.5"
    }
  },
  "nbformat": 4,
  "nbformat_minor": 0
}
